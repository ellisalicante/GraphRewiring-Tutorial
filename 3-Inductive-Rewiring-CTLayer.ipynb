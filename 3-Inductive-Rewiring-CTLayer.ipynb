{
  "cells": [
    {
      "cell_type": "markdown",
      "id": "6d07b1b0",
      "metadata": {
        "id": "6d07b1b0"
      },
      "source": [
        "[![Open In Colab](https://colab.research.google.com/assets/colab-badge.svg)](https://colab.research.google.com/github/ellisalicante/GraphRewiring-Tutorial/blob/main/3-Inductive-Rewiring-CTLayer.ipynb)\n",
        "# Inductive rewiring using CT-Layer\n",
        "***Tutorial on Graph Rewiring: From Theory to Applications in Fairness***\n",
        "\n",
        "[![Open In Colab](https://colab.research.google.com/assets/colab-badge.svg)](https://colab.research.google.com/github/ellisalicante/GraphRewiring-Tutorial/blob/main/3-Inductive-Rewiring-CTLayer.ipynb)"
      ]
    },
    {
      "cell_type": "markdown",
      "source": [
        "## Environment preparation"
      ],
      "metadata": {
        "id": "GHIUBS2KwVGH"
      },
      "id": "GHIUBS2KwVGH"
    },
    {
      "cell_type": "code",
      "execution_count": 2,
      "id": "090e809d",
      "metadata": {
        "id": "090e809d"
      },
      "outputs": [],
      "source": [
        "COLLAB_ENV = True"
      ]
    },
    {
      "cell_type": "code",
      "execution_count": 3,
      "id": "34c457a3",
      "metadata": {
        "id": "34c457a3"
      },
      "outputs": [],
      "source": [
        "import os\n",
        "import torch"
      ]
    },
    {
      "cell_type": "code",
      "execution_count": 4,
      "id": "f2befe8a",
      "metadata": {
        "id": "f2befe8a",
        "outputId": "65112249-8225-4b40-aa73-9c5f298617e5",
        "colab": {
          "base_uri": "https://localhost:8080/"
        }
      },
      "outputs": [
        {
          "output_type": "stream",
          "name": "stdout",
          "text": [
            "Cloning into 'GraphRewiring-Tutorial'...\n",
            "remote: Enumerating objects: 32, done.\u001b[K\n",
            "remote: Counting objects: 100% (32/32), done.\u001b[K\n",
            "remote: Compressing objects: 100% (24/24), done.\u001b[K\n",
            "remote: Total 32 (delta 11), reused 23 (delta 7), pack-reused 0\u001b[K\n",
            "Unpacking objects: 100% (32/32), done.\n",
            "Submodule 'DiffWire' (https://github.com/AdrianArnaiz/DiffWire/) registered for path 'DiffWire'\n",
            "Cloning into '/content/GraphRewiring-Tutorial/DiffWire'...\n",
            "Submodule path 'DiffWire': checked out '5aded812451639187680c2d70bf16f4d2f21ca2e'\n",
            "mv: cannot move 'GraphRewiring-Tutorial/DiffWire' to './DiffWire': Directory not empty\n",
            "mv: cannot move 'GraphRewiring-Tutorial/figs' to './figs': Directory not empty\n",
            "1.12.1+cu113\n"
          ]
        }
      ],
      "source": [
        "if COLLAB_ENV:\n",
        "  !git clone https://github.com/ellisalicante/GraphRewiring-Tutorial\n",
        "  !cd GraphRewiring-Tutorial && git submodule update --init --recursive\n",
        "  !mv GraphRewiring-Tutorial/* ./\n",
        "  !rm -rf GraphRewiring-Tutorial\n",
        "    \n",
        "  os.environ['TORCH'] = torch.__version__\n",
        "  print(torch.__version__)\n",
        "  !pip install -q torch-scatter -f https://data.pyg.org/whl/torch-${TORCH}.html\n",
        "  !pip install -q torch-sparse -f https://data.pyg.org/whl/torch-${TORCH}.html\n",
        "  !pip install -q git+https://github.com/pyg-team/pytorch_geometric.git\n"
      ]
    },
    {
      "cell_type": "code",
      "source": [
        "import sys\n",
        "sys.path.append(\"./DiffWire\")"
      ],
      "metadata": {
        "id": "MpafaIKspIgO"
      },
      "id": "MpafaIKspIgO",
      "execution_count": 5,
      "outputs": []
    },
    {
      "cell_type": "code",
      "source": [
        "from DiffWire.transforms import FeatureDegree\n",
        "from DiffWire.layers.utils.ein_utils import _rank3_diag, _rank3_trace\n",
        "from DiffWire.layers.MinCut_Layer import dense_mincut_pool\n",
        "\n",
        "import torch.nn.functional as F\n",
        "from torch.nn import Linear\n",
        "\n",
        "from torch_geometric.loader import DataLoader\n",
        "from torch_geometric.datasets import TUDataset\n",
        "from torch_geometric.nn import DenseGraphConv\n",
        "from torch_geometric.utils import to_dense_batch, to_dense_adj\n",
        "from torch_geometric.utils import to_networkx\n",
        "\n",
        "import networkx as nx\n",
        "\n",
        "import numpy as np\n",
        "\n",
        "from scipy.linalg import fractional_matrix_power\n",
        "from scipy.spatial.distance import pdist\n",
        "from scipy.spatial.distance import squareform\n",
        "\n",
        "from sklearn.model_selection import train_test_split\n",
        "from sklearn.manifold import TSNE\n",
        "from sklearn.preprocessing import normalize\n",
        "\n",
        "\n",
        "import matplotlib.pyplot as plt"
      ],
      "metadata": {
        "id": "uoZK6-FgiUar"
      },
      "id": "uoZK6-FgiUar",
      "execution_count": 6,
      "outputs": []
    },
    {
      "cell_type": "code",
      "execution_count": 7,
      "id": "d16edf02",
      "metadata": {
        "id": "d16edf02"
      },
      "outputs": [],
      "source": [
        "import warnings\n",
        "warnings.filterwarnings(\"ignore\")"
      ]
    },
    {
      "cell_type": "code",
      "execution_count": 8,
      "id": "67ccdbfc",
      "metadata": {
        "id": "67ccdbfc",
        "colab": {
          "base_uri": "https://localhost:8080/"
        },
        "outputId": "7dd3170c-aef5-49f1-85e5-30857a9ee834"
      },
      "outputs": [
        {
          "output_type": "execute_result",
          "data": {
            "text/plain": [
              "(device(type='cuda'), True)"
            ]
          },
          "metadata": {},
          "execution_count": 8
        }
      ],
      "source": [
        "device=torch.device(\"cuda\" if torch.cuda.is_available() else \"cpu\")\n",
        "device, torch.cuda.is_available()"
      ]
    },
    {
      "cell_type": "code",
      "source": [
        "!nvidia-smi"
      ],
      "metadata": {
        "id": "yfrlFryzmQPj",
        "outputId": "01f385ea-b2af-4db7-b91f-dfd26269f6f7",
        "colab": {
          "base_uri": "https://localhost:8080/"
        }
      },
      "id": "yfrlFryzmQPj",
      "execution_count": 9,
      "outputs": [
        {
          "output_type": "stream",
          "name": "stdout",
          "text": [
            "Wed Dec  7 15:32:24 2022       \n",
            "+-----------------------------------------------------------------------------+\n",
            "| NVIDIA-SMI 460.32.03    Driver Version: 460.32.03    CUDA Version: 11.2     |\n",
            "|-------------------------------+----------------------+----------------------+\n",
            "| GPU  Name        Persistence-M| Bus-Id        Disp.A | Volatile Uncorr. ECC |\n",
            "| Fan  Temp  Perf  Pwr:Usage/Cap|         Memory-Usage | GPU-Util  Compute M. |\n",
            "|                               |                      |               MIG M. |\n",
            "|===============================+======================+======================|\n",
            "|   0  Tesla T4            Off  | 00000000:00:04.0 Off |                    0 |\n",
            "| N/A   49C    P0    26W /  70W |      3MiB / 15109MiB |      0%      Default |\n",
            "|                               |                      |                  N/A |\n",
            "+-------------------------------+----------------------+----------------------+\n",
            "                                                                               \n",
            "+-----------------------------------------------------------------------------+\n",
            "| Processes:                                                                  |\n",
            "|  GPU   GI   CI        PID   Type   Process name                  GPU Memory |\n",
            "|        ID   ID                                                   Usage      |\n",
            "|=============================================================================|\n",
            "|  No running processes found                                                 |\n",
            "+-----------------------------------------------------------------------------+\n"
          ]
        }
      ]
    },
    {
      "cell_type": "markdown",
      "id": "0b3dde99",
      "metadata": {
        "id": "0b3dde99"
      },
      "source": [
        "## Graph Classification with CT-Layer"
      ]
    },
    {
      "cell_type": "markdown",
      "id": "aa86d2bc",
      "metadata": {
        "id": "aa86d2bc"
      },
      "source": [
        "### Train with CT-Layer"
      ]
    },
    {
      "cell_type": "markdown",
      "id": "4bcbd767",
      "metadata": {
        "id": "4bcbd767"
      },
      "source": [
        "#### CT-Layer\n",
        "\n",
        "For using it straightforward from the **[DiffWire repository](https://github.com/AdrianArnaiz/DiffWire)**:\n",
        "```python\n",
        "from DiffWire.layers.CT_layer import dense_CT_rewiring\n",
        "```\n",
        "**However, for the sake of clarity of the tutorial, we will explain the content of that function line by line**\n",
        "\n",
        "<a href =\"https://paperswithcode.com/method/ct-layer\"> <img src=\"https://production-media.paperswithcode.com/methods/305a898a-e0a2-4d74-b8e8-c12839496577.png\" alt=\"CT Layer\" style=\"width:500px;\"/> </a>"
      ]
    },
    {
      "cell_type": "code",
      "execution_count": 10,
      "id": "734c29cf",
      "metadata": {
        "id": "734c29cf"
      },
      "outputs": [],
      "source": [
        "def dense_CT_rewiring(x, adj, s, mask=None, EPS=1e-15):\n",
        "    \"\"\"Rewires a Graph using CT Distance (Effective Resistances) given 's' as the CT Embedding. \n",
        "    Returns the new adjacency, and the loss for the CT Embbeding (s).\n",
        "\n",
        "    Args:\n",
        "        x (dense): feature matrix: NxF\n",
        "        adj (dense): dense adjacency matrix: NxN\n",
        "        s (dense): CT Embedding: NxH (H: size of latent space)\n",
        "        mask (dense): dense mask of batches\n",
        "        EPS (float): epsilon to avoid nans\n",
        "\n",
        "    Returns:\n",
        "        adj: new adjacency = CTdist/vol(G)\n",
        "        loss: Cut Loss for CT Embedding (s)\n",
        "        ortho_loss: Loss regularization orthogonality in CT Embedding (s)\n",
        "    \"\"\"\n",
        "    x = x.unsqueeze(0) if x.dim() == 2 else x # adj torch.Size([b, N, f])\n",
        "    adj = adj.unsqueeze(0) if adj.dim() == 2 else adj # adj torch.Size([b, N, N]) \n",
        "    s = s.unsqueeze(0) if s.dim() == 2 else s # s torch.Size([b, N, k])\n",
        "    \n",
        "    s = torch.tanh(s) # torch.Size([20, N, k]) One k for each N of each graph\n",
        "    \n",
        "    # batck masking\n",
        "    (batch_size, num_nodes, _), k = x.size(), s.size(-1)\n",
        "    if mask is not None:\n",
        "        mask = mask.view(batch_size, num_nodes, 1).to(x.dtype)\n",
        "        x, s = x * mask, s * mask \n",
        "\n",
        "    \n",
        "    # Calculate CT_dist (distance matrix)\n",
        "    CT_dist = torch.cdist(s,s) # [20, N, k], [20, N, k]-> [20,N,N]\n",
        "    ## Calculate degree d_flat and degree matrix d\n",
        "    d_flat = torch.einsum('ijk->ij', adj) # torch.Size([b, N]) \n",
        "    d = _rank3_diag(d_flat)+EPS  # d torch.Size([b, N, N])\n",
        "    ## Calculate Vol (volumes): one per graph \n",
        "    vol = _rank3_trace(d) # torch.Size([20]) \n",
        "    ## Calculate out_adj as CT_dist/vol(G)\n",
        "    N = adj.size(1)\n",
        "    CT_dist = (CT_dist) / vol.unsqueeze(1).unsqueeze(1)\n",
        "    ## Mask with adjacency\n",
        "    adj = CT_dist*adj\n",
        "    \n",
        "    \n",
        "    # Losses\n",
        "    ## Calculate Laplacian L = D - A \n",
        "    L = d - adj\n",
        "    ## Calculate out_adj as A_CT = S.T*L*S\n",
        "    out_adj = torch.matmul(torch.matmul(s.transpose(1, 2), L), s) #[b, k, N]*[b, N, N]-> [b, k ,N]*[b, N, k] = [20, k, k]\n",
        "    ## Calculate CT_num \n",
        "    CT_num = _rank3_trace(out_adj) # mincut_num torch.Size([b]) one sum over each graph\n",
        "    ## Calculate CT_den \n",
        "    CT_den = _rank3_trace(\n",
        "        torch.matmul(torch.matmul(s.transpose(1, 2), d ), s))+EPS # [b, k, N]*[b, N, N]->[b, k, N]*[b, N, k] -> [b] one sum over each graph\n",
        "\n",
        "    CT_loss = CT_num / CT_den\n",
        "    CT_loss = torch.mean(CT_loss) # Mean over batch!\n",
        "    \n",
        "    ## Orthogonality regularization.\n",
        "    ss = torch.matmul(s.transpose(1, 2), s)  #[b, k, N]*[b, N, k]-> [b, k, k]\n",
        "    i_s = torch.eye(k).type_as(ss) # [k, k]\n",
        "    ortho_loss = torch.norm(\n",
        "        ss / torch.norm(ss, dim=(-1, -2), keepdim=True) -\n",
        "        i_s)\n",
        "    ortho_loss = torch.mean(ortho_loss) # Mean over batch!\n",
        "    \n",
        "    return adj, CT_loss, ortho_loss"
      ]
    },
    {
      "cell_type": "markdown",
      "id": "86e51e58",
      "metadata": {
        "id": "86e51e58"
      },
      "source": [
        "#### GNN using CT-Layer\n",
        "\n",
        "<img src=\"https://github.com/ellisalicante/GraphRewiring-Tutorial/blob/main/figs/ctnetwork.png?raw=1\" alt=\"CT network\" style=\"width:300px;\"/> </a>"
      ]
    },
    {
      "cell_type": "code",
      "execution_count": null,
      "id": "1f656163",
      "metadata": {
        "id": "1f656163"
      },
      "outputs": [],
      "source": [
        "class CTNet(torch.nn.Module):\n",
        "    def __init__(self, in_channels, out_channels, k_centers, hidden_channels=32, EPS=1e-15):\n",
        "        super(CTNet, self).__init__()\n",
        "        \n",
        "        self.EPS=EPS\n",
        "        #Message Passing Layers\n",
        "        self.conv1 = DenseGraphConv(hidden_channels, hidden_channels)\n",
        "        self.conv2 = DenseGraphConv(hidden_channels, hidden_channels)\n",
        "        \n",
        "        # Pooling for CT embedding\n",
        "        num_of_centers1 =  k_centers # k1 #order of number of nodes\n",
        "        self.pool1 = Linear(hidden_channels, num_of_centers1)\n",
        "        \n",
        "        # Pooling for MinCut Layer\n",
        "        num_of_centers2 =  16 # k2 #mincut \n",
        "        self.pool2 = Linear(hidden_channels, num_of_centers2) \n",
        "\n",
        "        # MLPs towards out \n",
        "        self.lin1 = Linear(in_channels, hidden_channels)\n",
        "        self.lin2 = Linear(hidden_channels, hidden_channels)\n",
        "        self.lin3 = Linear(hidden_channels, out_channels)\n",
        " \n",
        "\n",
        "    def forward(self, x, edge_index, batch):    # x torch.Size([N, N]),  data.batch  torch.Size([661])  \n",
        "        # Make all matrices dense\n",
        "        adj = to_dense_adj(edge_index, batch)   # adj torch.Size(B, N, N])\n",
        "        x, mask = to_dense_batch(x, batch)      \n",
        "\n",
        "        #First layer: linear MLP\n",
        "        x = self.lin1(x) \n",
        "        \n",
        "        if torch.isnan(adj).any():\n",
        "              print(\"adj nan\")\n",
        "        if torch.isnan(x).any():\n",
        "              print(\"x nan\")\n",
        "        \n",
        "        # CT REWIRING\n",
        "        s1  = self.pool1(x)\n",
        "        #adj = torch.Size([b, N, h]) --> CT Embedding\n",
        "        adj, CT_loss, ortho_loss1 = dense_CT_rewiring(x, adj, s1, mask, EPS = self.EPS) \n",
        "        #adj = torch.Size([b, N, N]) --> CT Distances\n",
        "        \n",
        "\n",
        "        # CONV1: Now on x and rewired adj: \n",
        "        x = self.conv1(x, adj) #out: x torch.Size([20, N, F'=32])\n",
        "\n",
        "        # MINCUT_POOL - Garph pooling\n",
        "        # MLP of k=16 outputs s\n",
        "        s2 = self.pool2(x) # s torch.Size([20, N, k])\n",
        "        \n",
        "        # Call to dense_cut_mincut_pool to get coarsened x, adj and the losses: k=16\n",
        "        x, adj, mincut_loss2, ortho_loss2 = dense_mincut_pool(x, adj, s2, mask, EPS=self.EPS) # out x torch.Size([20, k=16, F'=32]),  adj torch.Size([20, k2=16, k2=16])\n",
        "\n",
        "        # CONV2: Now on coarsened x and adj: \n",
        "        x = self.conv2(x, adj) #out x torch.Size([20, 16, 32])\n",
        "        \n",
        "        # Readout for each of the 20 graphs\n",
        "        x = x.sum(dim=1) \n",
        "        \n",
        "        # Final MLP for graph classification: hidden channels = 32\n",
        "        x = F.relu(self.lin2(x)) \n",
        "        x = self.lin3(x) \n",
        "        \n",
        "        #loss functions\n",
        "        CT_loss = CT_loss + ortho_loss1\n",
        "        mincut_loss = mincut_loss2 + ortho_loss2\n",
        "        \n",
        "        return F.log_softmax(x, dim=-1), CT_loss, mincut_loss\n"
      ]
    },
    {
      "cell_type": "code",
      "execution_count": 25,
      "id": "0a8d6f9f",
      "metadata": {
        "id": "0a8d6f9f"
      },
      "outputs": [],
      "source": [
        "def train(epoch, loader):\n",
        "    model.train()\n",
        "    loss_all = 0\n",
        "    correct = 0\n",
        "    #i = 0\n",
        "    for data in loader:\n",
        "        data = data.to(device)\n",
        "        optimizer.zero_grad()\n",
        "        out, mc_loss, o_loss = model(data.x, data.edge_index, data.batch) # data.batch  torch.Size([783])\n",
        "        loss = F.nll_loss(out, data.y.view(-1)) + mc_loss + o_loss\n",
        "        loss.backward()\n",
        "        loss_all += data.y.size(0) * loss.item()\n",
        "        optimizer.step()\n",
        "        correct += out.max(dim=1)[1].eq(data.y.view(-1)).sum().item() #accuracy in train AFTER EACH BACH\n",
        "    return loss_all / len(loader.dataset), correct / len(loader.dataset)\n",
        "\n",
        "@torch.no_grad()\n",
        "def test(loader):\n",
        "    model.eval()\n",
        "    correct = 0\n",
        "    for data in loader:\n",
        "        data = data.to(device)\n",
        "        pred, mc_loss, o_loss = model(data.x, data.edge_index, data.batch)\n",
        "        loss = F.nll_loss(pred, data.y.view(-1)) + mc_loss + o_loss\n",
        "        correct += pred.max(dim=1)[1].eq(data.y.view(-1)).sum().item()\n",
        "\n",
        "    return loss, correct / len(loader.dataset)"
      ]
    },
    {
      "cell_type": "markdown",
      "source": [
        "#### Load Dataset and split\n",
        "\n",
        "**Change `batch_size` depending on the availability of you memory**"
      ],
      "metadata": {
        "id": "ykl_l7weqYjJ"
      },
      "id": "ykl_l7weqYjJ"
    },
    {
      "cell_type": "code",
      "execution_count": null,
      "id": "8451e83e",
      "metadata": {
        "id": "8451e83e"
      },
      "outputs": [],
      "source": [
        "#TRAIN_SPLIT = 1500\n",
        "#BATCH_SIZE = 16\n",
        "#num_of_centers = 100\n",
        "#dataset = TUDataset(root='data',name=\"REDDIT-BINARY\", transform = FeatureDegree())\n",
        "\n",
        "#TRAIN_SPLIT = 4500\n",
        "#BATCH_SIZE = 16\n",
        "#num_of_centers = 50\n",
        "#dataset = TUDataset(root='data',name=\"COLLAB\", transform = FeatureDegree())\n",
        "\n",
        "TRAIN_SPLIT = 800\n",
        "BATCH_SIZE = 16\n",
        "num_of_centers = 20\n",
        "dataset = TUDataset(root='data',name=\"IMDB-BINARY\", transform = FeatureDegree())"
      ]
    },
    {
      "cell_type": "code",
      "execution_count": null,
      "id": "2287d420",
      "metadata": {
        "id": "2287d420"
      },
      "outputs": [],
      "source": [
        "seed = 12345\n",
        "torch.manual_seed(12345)\n",
        "stratified = True\n",
        "\n",
        "if stratified:\n",
        "  train_indices, test_indices = train_test_split(list(range(len(dataset.data.y))), test_size=0.15, \n",
        "                                                stratify=dataset.data.y,\n",
        "                                                random_state=seed, shuffle=True)\n",
        "\n",
        "  train_dataset = torch.utils.data.Subset(dataset, train_indices)\n",
        "  test_dataset = torch.utils.data.Subset(dataset, test_indices)\n",
        "\n",
        "  train_loader = DataLoader(train_dataset, batch_size=BATCH_SIZE, shuffle=True)\n",
        "  test_loader = DataLoader(test_dataset, batch_size=BATCH_SIZE, shuffle=False)  \n",
        "else:\n",
        "  dataset = dataset.shuffle()\n",
        "  train_dataset = dataset[:TRAIN_SPLIT]\n",
        "  test_dataset = dataset[TRAIN_SPLIT:]\n",
        "  train_loader = DataLoader(train_dataset, batch_size=BATCH_SIZE, shuffle=True)\n",
        "  test_loader = DataLoader(test_dataset, batch_size=BATCH_SIZE, shuffle=False)"
      ]
    },
    {
      "cell_type": "markdown",
      "source": [
        "#### Create model and train"
      ],
      "metadata": {
        "id": "MdmyLDrNqobB"
      },
      "id": "MdmyLDrNqobB"
    },
    {
      "cell_type": "code",
      "execution_count": null,
      "id": "4965faca",
      "metadata": {
        "id": "4965faca"
      },
      "outputs": [],
      "source": [
        "EPS = 1e-15\n",
        "epochs = 60\n",
        "\n",
        "model = CTNet(dataset.num_features, dataset.num_classes, k_centers=num_of_centers, EPS=EPS).to(device)\n",
        "optimizer = torch.optim.Adam(model.parameters(), lr=5e-4, weight_decay=1e-4)\n"
      ]
    },
    {
      "cell_type": "code",
      "execution_count": null,
      "id": "b739a0cd",
      "metadata": {
        "id": "b739a0cd",
        "outputId": "5ebb139d-d7f3-4de8-efc5-d91f32c9f2c4",
        "colab": {
          "base_uri": "https://localhost:8080/"
        }
      },
      "outputs": [
        {
          "output_type": "stream",
          "name": "stdout",
          "text": [
            "Epoch: 001, Train Acc: 0.5059, Test Acc: 0.4600\n",
            "Epoch: 002, Train Acc: 0.5682, Test Acc: 0.4200\n",
            "Epoch: 003, Train Acc: 0.5906, Test Acc: 0.5467\n",
            "Epoch: 004, Train Acc: 0.6082, Test Acc: 0.5733\n",
            "Epoch: 005, Train Acc: 0.5871, Test Acc: 0.6400\n",
            "Epoch: 006, Train Acc: 0.6282, Test Acc: 0.6333\n",
            "Epoch: 007, Train Acc: 0.6306, Test Acc: 0.4733\n",
            "Epoch: 008, Train Acc: 0.6082, Test Acc: 0.4600\n",
            "Epoch: 009, Train Acc: 0.6341, Test Acc: 0.7267\n",
            "Epoch: 010, Train Acc: 0.6647, Test Acc: 0.7133\n",
            "Epoch: 011, Train Acc: 0.6224, Test Acc: 0.6933\n",
            "Epoch: 012, Train Acc: 0.6518, Test Acc: 0.6400\n",
            "Epoch: 013, Train Acc: 0.6576, Test Acc: 0.6667\n",
            "Epoch: 014, Train Acc: 0.6541, Test Acc: 0.6800\n",
            "Epoch: 015, Train Acc: 0.6482, Test Acc: 0.7333\n",
            "Epoch: 016, Train Acc: 0.6541, Test Acc: 0.7000\n",
            "Epoch: 017, Train Acc: 0.5941, Test Acc: 0.4733\n",
            "Epoch: 018, Train Acc: 0.6388, Test Acc: 0.7133\n",
            "Epoch: 019, Train Acc: 0.6259, Test Acc: 0.5333\n",
            "Epoch: 020, Train Acc: 0.5953, Test Acc: 0.5067\n",
            "Epoch: 021, Train Acc: 0.6118, Test Acc: 0.6600\n",
            "Epoch: 022, Train Acc: 0.6000, Test Acc: 0.4200\n",
            "Epoch: 023, Train Acc: 0.5847, Test Acc: 0.6867\n",
            "Epoch: 024, Train Acc: 0.6306, Test Acc: 0.5000\n",
            "Epoch: 025, Train Acc: 0.6024, Test Acc: 0.7000\n",
            "Epoch: 026, Train Acc: 0.6624, Test Acc: 0.7067\n",
            "Epoch: 027, Train Acc: 0.6459, Test Acc: 0.7200\n",
            "Epoch: 028, Train Acc: 0.6447, Test Acc: 0.6667\n",
            "Epoch: 029, Train Acc: 0.6518, Test Acc: 0.7200\n",
            "Epoch: 030, Train Acc: 0.6235, Test Acc: 0.6467\n",
            "Epoch: 031, Train Acc: 0.6212, Test Acc: 0.6867\n",
            "Epoch: 032, Train Acc: 0.6682, Test Acc: 0.7067\n",
            "Epoch: 033, Train Acc: 0.6612, Test Acc: 0.7267\n",
            "Epoch: 034, Train Acc: 0.6635, Test Acc: 0.6667\n",
            "Epoch: 035, Train Acc: 0.6353, Test Acc: 0.7200\n",
            "Epoch: 036, Train Acc: 0.6494, Test Acc: 0.6867\n",
            "Epoch: 037, Train Acc: 0.6765, Test Acc: 0.7400\n",
            "Epoch: 038, Train Acc: 0.6494, Test Acc: 0.7267\n",
            "Epoch: 039, Train Acc: 0.6753, Test Acc: 0.7200\n",
            "Epoch: 040, Train Acc: 0.6447, Test Acc: 0.7267\n",
            "Epoch: 041, Train Acc: 0.6482, Test Acc: 0.7000\n",
            "Epoch: 042, Train Acc: 0.6694, Test Acc: 0.6400\n",
            "Epoch: 043, Train Acc: 0.6718, Test Acc: 0.7200\n",
            "Epoch: 044, Train Acc: 0.6682, Test Acc: 0.7333\n",
            "Epoch: 045, Train Acc: 0.6718, Test Acc: 0.7133\n",
            "Epoch: 046, Train Acc: 0.6659, Test Acc: 0.7267\n",
            "Epoch: 047, Train Acc: 0.6906, Test Acc: 0.6267\n",
            "Epoch: 048, Train Acc: 0.6729, Test Acc: 0.7333\n",
            "Epoch: 049, Train Acc: 0.6824, Test Acc: 0.7267\n",
            "Epoch: 050, Train Acc: 0.6847, Test Acc: 0.6933\n",
            "Epoch: 051, Train Acc: 0.6718, Test Acc: 0.6467\n",
            "Epoch: 052, Train Acc: 0.6753, Test Acc: 0.7333\n",
            "Epoch: 053, Train Acc: 0.6682, Test Acc: 0.7400\n",
            "Epoch: 054, Train Acc: 0.6835, Test Acc: 0.6800\n",
            "Epoch: 055, Train Acc: 0.6847, Test Acc: 0.6867\n",
            "Epoch: 056, Train Acc: 0.6835, Test Acc: 0.6600\n",
            "Epoch: 057, Train Acc: 0.6518, Test Acc: 0.7200\n",
            "Epoch: 058, Train Acc: 0.6835, Test Acc: 0.6600\n",
            "Epoch: 059, Train Acc: 0.6682, Test Acc: 0.6933\n",
            "Epoch: 060, Train Acc: 0.6965, Test Acc: 0.6733\n",
            "Epoch: 061, Train Acc: 0.6682, Test Acc: 0.7667\n",
            "Epoch: 062, Train Acc: 0.6918, Test Acc: 0.7267\n",
            "Epoch: 063, Train Acc: 0.6729, Test Acc: 0.7600\n",
            "Epoch: 064, Train Acc: 0.6988, Test Acc: 0.6933\n",
            "Epoch: 065, Train Acc: 0.6859, Test Acc: 0.7533\n",
            "Epoch: 066, Train Acc: 0.6976, Test Acc: 0.7467\n",
            "Epoch: 067, Train Acc: 0.7012, Test Acc: 0.7400\n",
            "Epoch: 068, Train Acc: 0.6776, Test Acc: 0.7333\n",
            "Epoch: 069, Train Acc: 0.6694, Test Acc: 0.7333\n",
            "Epoch: 070, Train Acc: 0.6976, Test Acc: 0.6867\n",
            "Epoch: 071, Train Acc: 0.6765, Test Acc: 0.7467\n",
            "Epoch: 072, Train Acc: 0.7024, Test Acc: 0.7333\n",
            "Epoch: 073, Train Acc: 0.6800, Test Acc: 0.7467\n",
            "Epoch: 074, Train Acc: 0.6776, Test Acc: 0.7400\n",
            "Epoch: 075, Train Acc: 0.7035, Test Acc: 0.7533\n",
            "Epoch: 076, Train Acc: 0.7094, Test Acc: 0.6333\n",
            "Epoch: 077, Train Acc: 0.6953, Test Acc: 0.6600\n",
            "Epoch: 078, Train Acc: 0.6976, Test Acc: 0.7467\n",
            "Epoch: 079, Train Acc: 0.6929, Test Acc: 0.7067\n",
            "Epoch: 080, Train Acc: 0.6706, Test Acc: 0.6533\n",
            "Epoch: 081, Train Acc: 0.6859, Test Acc: 0.7467\n",
            "Epoch: 082, Train Acc: 0.6859, Test Acc: 0.7333\n",
            "Epoch: 083, Train Acc: 0.7035, Test Acc: 0.7200\n",
            "Epoch: 084, Train Acc: 0.7012, Test Acc: 0.7400\n",
            "Epoch: 085, Train Acc: 0.7000, Test Acc: 0.7533\n",
            "Epoch: 086, Train Acc: 0.6847, Test Acc: 0.7333\n",
            "Epoch: 087, Train Acc: 0.6988, Test Acc: 0.7600\n",
            "Epoch: 088, Train Acc: 0.7047, Test Acc: 0.7600\n",
            "Epoch: 089, Train Acc: 0.6965, Test Acc: 0.7533\n",
            "Epoch: 090, Train Acc: 0.7047, Test Acc: 0.7333\n",
            "Epoch: 091, Train Acc: 0.6965, Test Acc: 0.7533\n",
            "Epoch: 092, Train Acc: 0.6788, Test Acc: 0.7667\n",
            "Epoch: 093, Train Acc: 0.6753, Test Acc: 0.7533\n",
            "Epoch: 094, Train Acc: 0.6953, Test Acc: 0.7333\n",
            "Epoch: 095, Train Acc: 0.6859, Test Acc: 0.6867\n",
            "Epoch: 096, Train Acc: 0.6906, Test Acc: 0.7533\n",
            "Epoch: 097, Train Acc: 0.6729, Test Acc: 0.7467\n",
            "Epoch: 098, Train Acc: 0.7024, Test Acc: 0.6867\n",
            "Epoch: 099, Train Acc: 0.7012, Test Acc: 0.7400\n"
          ]
        }
      ],
      "source": [
        "optimizer.zero_grad()\n",
        "for epoch in range(1, epochs):\n",
        "    train_loss, train_acc = train(epoch, train_loader)\n",
        "    #_, train_acc = test(train_loader)\n",
        "    _, test_acc = test(test_loader)\n",
        "    print(f'Epoch: {epoch:03d}, Train Acc: {train_acc:.4f}, Test Acc: {test_acc:.4f}')"
      ]
    },
    {
      "cell_type": "code",
      "execution_count": null,
      "id": "be21f4e7",
      "metadata": {
        "id": "be21f4e7"
      },
      "outputs": [],
      "source": [
        "\n"
      ]
    },
    {
      "cell_type": "code",
      "source": [],
      "metadata": {
        "id": "zHOUKtUdrr-X"
      },
      "id": "zHOUKtUdrr-X",
      "execution_count": null,
      "outputs": []
    },
    {
      "cell_type": "code",
      "source": [],
      "metadata": {
        "id": "BVP7Ssc_rr5Q"
      },
      "id": "BVP7Ssc_rr5Q",
      "execution_count": null,
      "outputs": []
    },
    {
      "cell_type": "code",
      "source": [],
      "metadata": {
        "id": "srdQ_31prrzY"
      },
      "id": "srdQ_31prrzY",
      "execution_count": null,
      "outputs": []
    },
    {
      "cell_type": "code",
      "source": [],
      "metadata": {
        "id": "zbAIJRfHrrxJ"
      },
      "id": "zbAIJRfHrrxJ",
      "execution_count": null,
      "outputs": []
    },
    {
      "cell_type": "markdown",
      "source": [
        "### Inspecting CT Layer: CT Distances and CT Embedding\n",
        "\n",
        "We will analyze the predicted CT distances and CT embedding, in order to better understand the rewiring and to to one’s imagination run riot in the use of commute times embedding $\\mathbf{Z}$ and commute times distance $\\mathbf{T^{CT}}$ (i.e. effective resistance)\n",
        "\n",
        "\n"
      ],
      "metadata": {
        "id": "3MKGLZMZrsZB"
      },
      "id": "3MKGLZMZrsZB"
    },
    {
      "cell_type": "code",
      "source": [
        "#num_of_centers = 420 #REDDIT model was trained with center=average degree of the graphs in the dataset (see DiffWire paper for more details)\n",
        "#dataset = TUDataset(root='data',name=\"REDDIT-BINARY\", transform = FeatureDegree())\n",
        "\n",
        "num_of_centers = 20\n",
        "dataset = TUDataset(root='data',name=\"IMDB-BINARY\", transform = FeatureDegree())"
      ],
      "metadata": {
        "id": "d8CPDmxDrru5"
      },
      "id": "d8CPDmxDrru5",
      "execution_count": 18,
      "outputs": []
    },
    {
      "cell_type": "code",
      "source": [
        "BATCH_SIZE = 16\n",
        "full_loader = DataLoader(dataset, batch_size=BATCH_SIZE, shuffle=False)\n",
        "indiv_loader = DataLoader(dataset, batch_size=1, shuffle=False)"
      ],
      "metadata": {
        "id": "CENl2yNN3T8_"
      },
      "id": "CENl2yNN3T8_",
      "execution_count": 53,
      "outputs": []
    },
    {
      "cell_type": "code",
      "source": [
        "# get cc graphs\n",
        "connected_graphs = []\n",
        "for i, g in enumerate(indiv_loader):\n",
        "  G = to_networkx(g, node_attrs=[\"x\"], to_undirected=True)\n",
        "  if nx.is_connected(G):\n",
        "    connected_graphs.append(g)\n",
        "\n",
        "del g,i,G"
      ],
      "metadata": {
        "id": "20ZKvCHhBGdD"
      },
      "id": "20ZKvCHhBGdD",
      "execution_count": 49,
      "outputs": []
    },
    {
      "cell_type": "code",
      "source": [
        "#trained_model_path = \"DiffWire/trained_models/CTNet/REDDIT-BINARY_CTNet_17_05_22__08_50_iter0.pth\"\n",
        "trained_model_path = \"DiffWire/trained_models/CTNet/IMDB-BINARY_CTNet_17_05_22__08_56_iter0.pth\""
      ],
      "metadata": {
        "id": "IohtuWET1dte"
      },
      "id": "IohtuWET1dte",
      "execution_count": 21,
      "outputs": []
    },
    {
      "cell_type": "code",
      "source": [
        "#@title GNN using CT-Layer and **saving CTEmbedding and CTDist**\n",
        "\n",
        "class CTNet_latent(torch.nn.Module):\n",
        "    def __init__(self, in_channels, out_channels, k_centers, hidden_channels=32, EPS=1e-15):\n",
        "        super(CTNet_latent, self).__init__()\n",
        "        \n",
        "        self.EPS=EPS\n",
        "        #Message Passing Layers\n",
        "        self.conv1 = DenseGraphConv(hidden_channels, hidden_channels)\n",
        "        self.conv2 = DenseGraphConv(hidden_channels, hidden_channels)\n",
        "        \n",
        "        # Pooling for CT embedding\n",
        "        num_of_centers1 =  k_centers # k1 #order of number of nodes\n",
        "        self.pool1 = Linear(hidden_channels, num_of_centers1)\n",
        "        \n",
        "        # Pooling for MinCut Layer\n",
        "        num_of_centers2 =  16 # k2 #mincut \n",
        "        self.pool2 = Linear(hidden_channels, num_of_centers2) \n",
        "\n",
        "        # MLPs towards out \n",
        "        self.lin1 = Linear(in_channels, hidden_channels)\n",
        "        self.lin2 = Linear(hidden_channels, hidden_channels)\n",
        "        self.lin3 = Linear(hidden_channels, out_channels)\n",
        "\n",
        "        self.ct_embedding = None\n",
        "        self.new_adj = None\n",
        " \n",
        "\n",
        "    def forward(self, x, edge_index, batch):    # x torch.Size([N, N]),  data.batch  torch.Size([661])  \n",
        "        # Make all matrices dense\n",
        "        adj = to_dense_adj(edge_index, batch)   # adj torch.Size(B, N, N])\n",
        "        x, mask = to_dense_batch(x, batch)      \n",
        "\n",
        "        #First layer: linear MLP\n",
        "        x = self.lin1(x) \n",
        "        \n",
        "        if torch.isnan(adj).any():\n",
        "              print(\"adj nan\")\n",
        "        if torch.isnan(x).any():\n",
        "              print(\"x nan\")\n",
        "        \n",
        "        # CT REWIRING\n",
        "        s1  = self.pool1(x)\n",
        "        self.ct_embedding = torch.tanh(s1.clone().detach())\n",
        "        adj, CT_loss, ortho_loss1 = dense_CT_rewiring(x, adj, s1, mask, EPS = self.EPS) \n",
        "        self.new_adj = adj.clone()\n",
        "        \n",
        "\n",
        "        # CONV1: Now on x and rewired adj: \n",
        "        x = self.conv1(x, adj) #out: x torch.Size([20, N, F'=32])\n",
        "\n",
        "        # MINCUT_POOL - Garph pooling\n",
        "        s2 = self.pool2(x) \n",
        "        x, adj, mincut_loss2, ortho_loss2 = dense_mincut_pool(x, adj, s2, mask, EPS=self.EPS) # out x torch.Size([20, k=16, F'=32]),  adj torch.Size([20, k2=16, k2=16])\n",
        "\n",
        "        # CONV2: Now on coarsened x and adj: \n",
        "        x = self.conv2(x, adj)\n",
        "        \n",
        "        # Readout for each of the 20 graphs\n",
        "        x = x.sum(dim=1) \n",
        "        \n",
        "        # Final MLP for graph classification: hidden channels = 32\n",
        "        x = F.relu(self.lin2(x)) \n",
        "        x = self.lin3(x) \n",
        "        \n",
        "        #loss functions\n",
        "        CT_loss = CT_loss + ortho_loss1\n",
        "        mincut_loss = mincut_loss2 + ortho_loss2\n",
        "        \n",
        "        return F.log_softmax(x, dim=-1), CT_loss, mincut_loss"
      ],
      "metadata": {
        "cellView": "form",
        "id": "0HtQr2YDxR64"
      },
      "id": "0HtQr2YDxR64",
      "execution_count": 52,
      "outputs": []
    },
    {
      "cell_type": "markdown",
      "source": [
        "Import trained model"
      ],
      "metadata": {
        "id": "cUBYk5_H3FsO"
      },
      "id": "cUBYk5_H3FsO"
    },
    {
      "cell_type": "code",
      "source": [
        "model =  CTNet_latent(dataset.num_features, dataset.num_classes,num_of_centers).to(device)\n",
        "model.load_state_dict(torch.load(trained_model_path, map_location=torch.device(device)))\n",
        "model.to(device)\n",
        "model.eval()"
      ],
      "metadata": {
        "colab": {
          "base_uri": "https://localhost:8080/"
        },
        "id": "RDmyFld-xR5R",
        "outputId": "24b871fb-c938-4d65-b3f6-04d61af5040c"
      },
      "id": "RDmyFld-xR5R",
      "execution_count": 33,
      "outputs": [
        {
          "output_type": "execute_result",
          "data": {
            "text/plain": [
              "CTNet_latent(\n",
              "  (conv1): DenseGraphConv(32, 32)\n",
              "  (conv2): DenseGraphConv(32, 32)\n",
              "  (pool1): Linear(in_features=32, out_features=20, bias=True)\n",
              "  (pool2): Linear(in_features=32, out_features=16, bias=True)\n",
              "  (lin1): Linear(in_features=1, out_features=32, bias=True)\n",
              "  (lin2): Linear(in_features=32, out_features=32, bias=True)\n",
              "  (lin3): Linear(in_features=32, out_features=2, bias=True)\n",
              ")"
            ]
          },
          "metadata": {},
          "execution_count": 33
        }
      ]
    },
    {
      "cell_type": "code",
      "source": [
        "#test loaded model\n",
        "loss, acc = test(full_loader)\n",
        "print(loss, acc)"
      ],
      "metadata": {
        "colab": {
          "base_uri": "https://localhost:8080/"
        },
        "id": "Xi8qgpjuxR3I",
        "outputId": "535798e1-dda1-44f9-cd12-1f45a0355bf8"
      },
      "id": "Xi8qgpjuxR3I",
      "execution_count": 34,
      "outputs": [
        {
          "output_type": "stream",
          "name": "stdout",
          "text": [
            "tensor(14.3905, device='cuda:0') 0.715\n"
          ]
        }
      ]
    },
    {
      "cell_type": "markdown",
      "source": [
        "#### CT Rewiring"
      ],
      "metadata": {
        "id": "x8HvW3sRv6iH"
      },
      "id": "x8HvW3sRv6iH"
    },
    {
      "cell_type": "code",
      "source": [
        "#Select a graph\n",
        "from itertools import islice\n",
        "#graph_i = connected_graphs[-10]\n",
        "graph_i= next(islice(iter(indiv_loader),234,None)) #15 in IMBD is complete graph, (0,1, 16, 17) clearly structured\n",
        "\n",
        "G = to_networkx(graph_i, node_attrs=[\"x\"], to_undirected=True)\n",
        "degree = np.array(list(dict(G.degree).values()))\n",
        "nx.is_connected(G), len(list(nx.connected_components(G))), G.number_of_nodes()"
      ],
      "metadata": {
        "colab": {
          "base_uri": "https://localhost:8080/"
        },
        "id": "Xi8zoXR3v56_",
        "outputId": "82f40efe-52ad-4d19-b673-85818e8f0c33"
      },
      "id": "Xi8zoXR3v56_",
      "execution_count": 356,
      "outputs": [
        {
          "output_type": "execute_result",
          "data": {
            "text/plain": [
              "(True, 1, 13)"
            ]
          },
          "metadata": {},
          "execution_count": 356
        }
      ]
    },
    {
      "cell_type": "code",
      "source": [
        "#predict the new adjacency\n",
        "graph_i.to(device)\n",
        "pred, mc_loss, o_loss = model(graph_i.x, graph_i.edge_index, graph_i.batch)\n",
        "loss_graph = F.nll_loss(pred,graph_i.y.view(-1)) + mc_loss + o_loss\n",
        "print('correct graph classification?', bool(pred.max(dim=-1)[1].eq(graph_i.y.view(-1)).sum().item()))\n",
        "rewired_adj = model.new_adj.detach().cpu().squeeze()\n",
        "rewired_adj.shape"
      ],
      "metadata": {
        "colab": {
          "base_uri": "https://localhost:8080/"
        },
        "id": "VY00GyxQv52f",
        "outputId": "ffa9439a-1d4a-4837-87ea-206a1a062d2c"
      },
      "id": "VY00GyxQv52f",
      "execution_count": 357,
      "outputs": [
        {
          "output_type": "stream",
          "name": "stdout",
          "text": [
            "correct graph classification? True\n"
          ]
        },
        {
          "output_type": "execute_result",
          "data": {
            "text/plain": [
              "torch.Size([13, 13])"
            ]
          },
          "metadata": {},
          "execution_count": 357
        }
      ]
    },
    {
      "cell_type": "code",
      "source": [
        "def get_cbar(cmap, array):\n",
        "  wmin = min(array)\n",
        "  wmax = max(array)\n",
        "  return plt.cm.ScalarMappable(cmap=cmap, norm=plt.Normalize(vmin = wmin, vmax=wmax))"
      ],
      "metadata": {
        "id": "0fCIfSNmkm4Z"
      },
      "id": "0fCIfSNmkm4Z",
      "execution_count": 358,
      "outputs": []
    },
    {
      "cell_type": "code",
      "source": [],
      "metadata": {
        "id": "f0DD6zEjlAqx"
      },
      "id": "f0DD6zEjlAqx",
      "execution_count": 358,
      "outputs": []
    },
    {
      "cell_type": "code",
      "execution_count": 359,
      "id": "1954040a",
      "metadata": {
        "id": "1954040a",
        "colab": {
          "base_uri": "https://localhost:8080/",
          "height": 270
        },
        "outputId": "45eaa5ad-7bce-4d26-97c0-f44f8959fa7c"
      },
      "outputs": [
        {
          "output_type": "display_data",
          "data": {
            "text/plain": [
              "<Figure size 1440x288 with 9 Axes>"
            ],
            "image/png": "[encoded data removed]"
          },
          "metadata": {}
        }
      ],
      "source": [
        "fig = plt.figure(figsize=(20,4), constrained_layout=True)\n",
        "\n",
        "ax1 = plt.subplot2grid((1, 3), (0, 0))\n",
        "ax2 = plt.subplot2grid((1, 3), (0, 1))\n",
        "ax3 = plt.subplot2grid((1, 3), (0, 2))\n",
        "\n",
        "node_cmap = plt.cm.coolwarm\n",
        "edge_cmap = plt.cm.cool\n",
        "\n",
        "####### ORIGINAL\n",
        "degree = np.array(list(dict(G.degree).values()))\n",
        "pos = nx.kamada_kawai_layout(G)\n",
        "#pos = nx.spring_layout(G)\n",
        "nx.draw(G, node_color = degree, cmap=node_cmap, pos=pos, node_size=degree*30, ax=ax1)\n",
        "\n",
        "plt.colorbar(get_cbar(edge_cmap, [1]*G.number_of_nodes()), label='Edge weight', orientation=\"vertical\", ax=ax1)\n",
        "plt.colorbar(get_cbar(node_cmap, degree), label='Degree', orientation=\"vertical\", ax=ax1)\n",
        "ax1.set_title('Original')\n",
        "\n",
        "######### REWIRED\n",
        "H = nx.from_numpy_matrix(np.asmatrix(rewired_adj))\n",
        "#totally connected lead to totally disconnected\n",
        "if len(torch.nonzero(rewired_adj)) > 0:\n",
        "  edges, weights = zip(*nx.get_edge_attributes(H,'weight').items())\n",
        "  new_degree = np.array(list(dict(H.degree).values()))\n",
        "else:\n",
        "  edges = []\n",
        "  weights= np.array([0])\n",
        "  new_degree = np.array([1]*H.number_of_nodes())\n",
        "\n",
        "#posH = nx.kamada_kawai_layout(H)\n",
        "\n",
        "#draw\n",
        "nx.draw(H, node_color = new_degree, cmap=node_cmap, pos=pos, node_size=new_degree*30, \n",
        "        edgelist=edges, edge_color=weights, width=np.array(weights)*200, edge_cmap=edge_cmap, ax=ax2)\n",
        "#colorbar\n",
        "fig.colorbar(get_cbar(edge_cmap, weights), label='Edge weight', orientation=\"vertical\", ax=ax2)\n",
        "fig.colorbar(get_cbar(node_cmap, new_degree), label='New Degree', orientation=\"vertical\", ax=ax2)\n",
        "ax2.set_title('CT-Distance')\n",
        "\n",
        "\n",
        "######### REWIRED and row-stochastic\n",
        "new_matrix = normalize(rewired_adj,axis=1, norm='l1')\n",
        "H = nx.from_numpy_matrix(np.asmatrix(new_matrix))\n",
        "#totally connected lead to totally disconnected\n",
        "\n",
        "if len(torch.nonzero(rewired_adj)) > 0:\n",
        "  edges, weights = zip(*nx.get_edge_attributes(H,'weight').items())\n",
        "  new_degree = np.array(list(dict(H.degree).values()))\n",
        "else:\n",
        "  edges = []\n",
        "  weights= np.array([0])\n",
        "  new_degree = np.array([1]*H.number_of_nodes())\n",
        "\n",
        "#posH = nx.kamada_kawai_layout(H)\n",
        "\n",
        "#draw\n",
        "nx.draw(H, node_color = new_degree, cmap=node_cmap, pos=pos, node_size=new_degree*30, \n",
        "        edgelist=edges, edge_color=weights, width=np.array(weights)*3, edge_cmap=edge_cmap, ax=ax3)\n",
        "#colorbar\n",
        "fig.colorbar(get_cbar(edge_cmap, weights), label='Edge weight', orientation=\"vertical\", ax=ax3)\n",
        "fig.colorbar(get_cbar(node_cmap, new_degree), label='New Degree', orientation=\"vertical\", ax=ax3)\n",
        "ax3.set_title('ROW Stochastic CT-Distance')\n",
        "#plt.tight_layout()\n",
        "plt.show()"
      ]
    },
    {
      "cell_type": "markdown",
      "source": [
        "#### CT Embedding"
      ],
      "metadata": {
        "id": "PovEwYLkwBJv"
      },
      "id": "PovEwYLkwBJv"
    },
    {
      "cell_type": "code",
      "source": [
        "def visualize(z, color, size=10, save=False, title='img', ax=None):\n",
        "    plt.figure(figsize=(5,5))\n",
        "    plt.scatter(z[:, 0], z[:, 1], s=size, c=color, cmap=\"seismic\")\n",
        "    plt.colorbar()\n",
        "    plt.xticks([], [])\n",
        "    plt.yticks([], [])\n",
        "    if save:\n",
        "        plt.savefig(title+'.pdf')\n",
        "     \n",
        "    plt.show()\n",
        "\n",
        "def graph_vol(G):\n",
        "    A = nx.adjacency_matrix(G)\n",
        "    D = A.sum(axis=1)\n",
        "    D = D.squeeze()\n",
        "    d = np.zeros(G.number_of_nodes())\n",
        "    for i in range(G.number_of_nodes()):\n",
        "        d[i] = D[0,i]\n",
        "    vol = d.sum()\n",
        "    return vol\n",
        "\n",
        "def commute_times_embedding(G):\n",
        "\n",
        "    A = nx.adjacency_matrix(G)\n",
        "    n = G.number_of_nodes()\n",
        "    vol = graph_vol(G)\n",
        "    D = A.sum(axis=1)\n",
        "    L = nx.normalized_laplacian_matrix(G)\n",
        "\n",
        "    # Finding eigen values and eigen vectors\n",
        "    e, evecs = np.linalg.eig(L.todense())\n",
        "    # Sort them (both e's and evecs's) ascending\n",
        "    idx =e.argsort()\n",
        "    e = e[idx]\n",
        "    evecs = evecs[:,idx]\n",
        "\n",
        "    #Compute CTE\n",
        "    Lambda = np.diag(e)\n",
        "    Lambda = fractional_matrix_power(Lambda, -0.5)\n",
        "    Lambda[0,0] = 0\n",
        "    CTE = np.sqrt(vol)*np.matmul(Lambda,np.transpose(evecs))\n",
        "    # Embedding is in the columns\n",
        "    return CTE"
      ],
      "metadata": {
        "id": "n--uDZMZwA1H"
      },
      "id": "n--uDZMZwA1H",
      "execution_count": 304,
      "outputs": []
    },
    {
      "cell_type": "markdown",
      "source": [
        "**Select a graph, calculate Spectral CT, predicted CT by CT-Layer and plot**\n",
        "\n",
        "Ideally we select connected graphs for a fair comparison with Spectral CT (CT computed spectrally has complex numbers if disconnected)\n",
        "\n",
        "You can select the graph yourself, either from the list of connected graphs `connected_graphs[IDX]` or from all the graphs in the dataset `next(islice(iter(indiv_loader),IDX,None))`"
      ],
      "metadata": {
        "id": "zYYSEjPgDNVD"
      },
      "id": "zYYSEjPgDNVD"
    },
    {
      "cell_type": "code",
      "source": [
        "G = to_networkx(graph_i, node_attrs=[\"x\"], to_undirected=True)\n",
        "degree = np.array(list(dict(G.degree).values()))\n",
        "nx.is_connected(G), len(list(nx.connected_components(G))), G.number_of_nodes()"
      ],
      "metadata": {
        "colab": {
          "base_uri": "https://localhost:8080/"
        },
        "id": "MnqHa-NMAZBj",
        "outputId": "15020db8-6e40-4f9a-b7a7-8440e5a10aca"
      },
      "id": "MnqHa-NMAZBj",
      "execution_count": 305,
      "outputs": [
        {
          "output_type": "execute_result",
          "data": {
            "text/plain": [
              "(True, 1, 12)"
            ]
          },
          "metadata": {},
          "execution_count": 305
        }
      ]
    },
    {
      "cell_type": "code",
      "source": [
        "#Spectral CTE\n",
        "degree = np.array(list(dict(G.degree).values()))\n",
        "spectral_CTE = commute_times_embedding(G).T"
      ],
      "metadata": {
        "id": "mWtWIrBpAZ-T"
      },
      "id": "mWtWIrBpAZ-T",
      "execution_count": 306,
      "outputs": []
    },
    {
      "cell_type": "code",
      "source": [
        "#Learned CTE\n",
        "graph_i.to(device)\n",
        "pred, mc_loss, o_loss = model(graph_i.x, graph_i.edge_index, graph_i.batch)\n",
        "loss_graph = F.nll_loss(pred,graph_i.y.view(-1)) + mc_loss + o_loss\n",
        "print('correct pred?', bool(pred.max(dim=-1)[1].eq(graph_i.y.view(-1)).sum().item()))\n",
        "learned_cte = model.ct_embedding.detach().cpu().squeeze()"
      ],
      "metadata": {
        "colab": {
          "base_uri": "https://localhost:8080/"
        },
        "id": "zUDHsu94DhHi",
        "outputId": "0427d3cc-3c2e-4b67-8d47-4d6f7be11619"
      },
      "id": "zUDHsu94DhHi",
      "execution_count": 307,
      "outputs": [
        {
          "output_type": "stream",
          "name": "stdout",
          "text": [
            "correct pred? False\n"
          ]
        }
      ]
    },
    {
      "cell_type": "code",
      "source": [
        "fig = plt.figure(figsize=(16,5))\n",
        "\n",
        "ax1 = plt.subplot2grid((1, 3), (0, 0))\n",
        "ax2 = plt.subplot2grid((1, 3), (0, 1), rowspan=1)\n",
        "ax3 = plt.subplot2grid((1, 3), (0, 2))\n",
        "\n",
        "#pos = nx.spring_layout(G, seed=44)\n",
        "nx.draw(G, node_color = degree, cmap=\"coolwarm\", pos=pos, node_size=degree*30, ax=ax2)\n",
        "\n",
        "learned_cte_2d = TSNE(n_components=2, learning_rate='auto',\n",
        "               init='random', perplexity=6, early_exaggeration=100, random_state=200).fit_transform(learned_cte.real)\n",
        "ax3.set_xticks([], [])\n",
        "ax3.set_yticks([], [])\n",
        "ax3.set_title('CT-Layer - Learned CTE')\n",
        "ax3.scatter(learned_cte_2d[:, 0], learned_cte_2d[:, 1], s=degree*10, c=degree, cmap=\"coolwarm\")\n",
        "\n",
        "spec_cte_2d = TSNE(n_components=2, learning_rate='auto',\n",
        "               init='random', perplexity=6, early_exaggeration=100, random_state=200).fit_transform(spectral_CTE.real)\n",
        "ax1.set_xticks([], [])\n",
        "ax1.set_yticks([], [])\n",
        "ax1.set_title('Spectral CTE')\n",
        "ax1.scatter(spec_cte_2d[:, 0], spec_cte_2d[:, 1], s=degree*10, c=degree, cmap=\"coolwarm\")\n",
        "\n",
        "plt.show()"
      ],
      "metadata": {
        "colab": {
          "base_uri": "https://localhost:8080/",
          "height": 322
        },
        "id": "phnN2K2X4wN-",
        "outputId": "0e965ed5-91f6-46a0-ae74-74eeb9df8980"
      },
      "id": "phnN2K2X4wN-",
      "execution_count": 308,
      "outputs": [
        {
          "output_type": "display_data",
          "data": {
            "text/plain": [
              "<Figure size 1152x360 with 3 Axes>"
            ],
            "image/png": "[encoded data removed]"
          },
          "metadata": {}
        }
      ]
    },
    {
      "cell_type": "code",
      "source": [],
      "metadata": {
        "id": "kte2Xuf85ZfO"
      },
      "id": "kte2Xuf85ZfO",
      "execution_count": 94,
      "outputs": []
    },
    {
      "cell_type": "code",
      "source": [],
      "metadata": {
        "id": "pakZTbwBAF0j"
      },
      "id": "pakZTbwBAF0j",
      "execution_count": 84,
      "outputs": []
    },
    {
      "cell_type": "code",
      "source": [],
      "metadata": {
        "id": "iAz1BqgqAFyC"
      },
      "id": "iAz1BqgqAFyC",
      "execution_count": null,
      "outputs": []
    },
    {
      "cell_type": "markdown",
      "id": "edf400a8",
      "metadata": {
        "id": "edf400a8"
      },
      "source": [
        "## Node classification"
      ]
    },
    {
      "cell_type": "code",
      "execution_count": null,
      "id": "1ad78213",
      "metadata": {
        "id": "1ad78213"
      },
      "outputs": [],
      "source": []
    }
  ],
  "metadata": {
    "kernelspec": {
      "display_name": "Python 3.9.5 ('base')",
      "language": "python",
      "name": "python3"
    },
    "language_info": {
      "codemirror_mode": {
        "name": "ipython",
        "version": 3
      },
      "file_extension": ".py",
      "mimetype": "text/x-python",
      "name": "python",
      "nbconvert_exporter": "python",
      "pygments_lexer": "ipython3",
      "version": "3.9.5"
    },
    "vscode": {
      "interpreter": {
        "hash": "975064d8d3d76841da6545d74f7ce08046b8a22628138d3f8f012e5fa8e266fc"
      }
    },
    "colab": {
      "provenance": [],
      "toc_visible": true
    },
    "accelerator": "GPU",
    "gpuClass": "standard"
  },
  "nbformat": 4,
  "nbformat_minor": 5
}