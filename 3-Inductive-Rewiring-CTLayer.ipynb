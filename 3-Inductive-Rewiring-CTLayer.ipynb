{
 "cells": [
  {
   "cell_type": "markdown",
   "id": "6d07b1b0",
   "metadata": {},
   "source": [
    "[![Open In Colab](https://colab.research.google.com/assets/colab-badge.svg)](https://colab.research.google.com/github/ellisalicante/GraphRewiring-Tutorial/blob/main/3-Inductive-Rewiring-CTLayer.ipynb)\n",
    "# Inductive rewiring using CT-Layer\n",
    "***Tutorial on Graph Rewiring: From Theory to Applications in Fairness***\n",
    "\n",
    "[![Open In Colab](https://colab.research.google.com/assets/colab-badge.svg)](https://colab.research.google.com/github/ellisalicante/GraphRewiring-Tutorial/blob/main/3-Inductive-Rewiring-CTLayer.ipynb)"
   ]
  },
  {
   "cell_type": "code",
   "execution_count": 30,
   "id": "090e809d",
   "metadata": {},
   "outputs": [],
   "source": [
    "COLLAB_ENV = False"
   ]
  },
  {
   "cell_type": "code",
   "execution_count": 31,
   "id": "34c457a3",
   "metadata": {},
   "outputs": [],
   "source": [
    "import os\n",
    "import torch"
   ]
  },
  {
   "cell_type": "code",
   "execution_count": 32,
   "id": "f2befe8a",
   "metadata": {},
   "outputs": [],
   "source": [
    "if COLLAB_ENV:\n",
    "    !git clone https://github.com/ellisalicante/GraphRewiring-Tutorial\n",
    "    !cd GraphRewiring-Tutorial && git submodule update --init --recursive\n",
    "    !mv GraphRewiring-Tutorial/* ./\n",
    "    !rm -rf GraphRewiring-Tutorial\n",
    "    \n",
    "    os.environ['TORCH'] = torch.__version__\n",
    "    print(torch.__version__)\n",
    "    !pip install -q torch-scatter -f https://data.pyg.org/whl/torch-${TORCH}.html\n",
    "    !pip install -q torch-sparse -f https://data.pyg.org/whl/torch-${TORCH}.html\n",
    "    !pip install -q git+https://github.com/pyg-team/pytorch_geometric.git"
   ]
  },
  {
   "cell_type": "code",
   "execution_count": 33,
   "id": "d16edf02",
   "metadata": {},
   "outputs": [],
   "source": [
    "import sys\n",
    "sys.path.append(\"./DiffWire\")"
   ]
  },
  {
   "cell_type": "code",
   "execution_count": 34,
   "id": "67ccdbfc",
   "metadata": {},
   "outputs": [],
   "source": [
    "device=\"cuda\""
   ]
  },
  {
   "cell_type": "markdown",
   "id": "0b3dde99",
   "metadata": {},
   "source": [
    "## Graph Classification"
   ]
  },
  {
   "cell_type": "markdown",
   "id": "aa86d2bc",
   "metadata": {},
   "source": [
    "### CT-Layer"
   ]
  },
  {
   "cell_type": "markdown",
   "id": "4bcbd767",
   "metadata": {},
   "source": [
    "For using it straightforward from the **[DiffWire repository](https://github.com/AdrianArnaiz/DiffWire)**:\n",
    "```python\n",
    "from DiffWire.layers.CT_layer import dense_CT_rewiring\n",
    "```\n",
    "**However, for the sake of clarity of the tutorial, we will explain the content of that function line by line**\n",
    "\n",
    "<a href =\"https://paperswithcode.com/method/ct-layer\"> <img src=\"https://production-media.paperswithcode.com/methods/305a898a-e0a2-4d74-b8e8-c12839496577.png\" alt=\"CT Layer\" style=\"width:500px;\"/> </a>"
   ]
  },
  {
   "cell_type": "code",
   "execution_count": 35,
   "id": "734c29cf",
   "metadata": {},
   "outputs": [],
   "source": [
    "from DiffWire.layers.utils.ein_utils import _rank3_diag, _rank3_trace\n",
    "\n",
    "def dense_CT_rewiring(x, adj, s, mask=None, EPS=1e-15):\n",
    "    \"\"\"Rewires a Graph using CT Distance (Effective Resistances) given 's' as the CT Embedding. \n",
    "    Returns the new adjacency, and the loss for the CT Embbeding (s).\n",
    "\n",
    "    Args:\n",
    "        x (dense): feature matrix: NxF\n",
    "        adj (dense): dense adjacency matrix: NxN\n",
    "        s (dense): CT Embedding: NxH (H: size of latent space)\n",
    "        mask (dense): dense mask of batches\n",
    "        EPS (float): epsilon to avoid nans\n",
    "\n",
    "    Returns:\n",
    "        adj: new adjacency = CTdist/vol(G)\n",
    "        loss: Cut Loss for CT Embedding (s)\n",
    "        ortho_loss: Loss regularization orthogonality in CT Embedding (s)\n",
    "    \"\"\"\n",
    "    x = x.unsqueeze(0) if x.dim() == 2 else x # adj torch.Size([b, N, f])\n",
    "    adj = adj.unsqueeze(0) if adj.dim() == 2 else adj # adj torch.Size([b, N, N]) \n",
    "    s = s.unsqueeze(0) if s.dim() == 2 else s # s torch.Size([b, N, k])\n",
    "    \n",
    "    s = torch.tanh(s) # torch.Size([20, N, k]) One k for each N of each graph\n",
    "    \n",
    "    # batck masking\n",
    "    (batch_size, num_nodes, _), k = x.size(), s.size(-1)\n",
    "    if mask is not None:\n",
    "        mask = mask.view(batch_size, num_nodes, 1).to(x.dtype)\n",
    "        x, s = x * mask, s * mask \n",
    "\n",
    "    # CT regularization\n",
    "    # Calculate degree d_flat and degree matrix d\n",
    "    d_flat = torch.einsum('ijk->ij', adj) # torch.Size([b, N]) \n",
    "    d = _rank3_diag(d_flat)+EPS  # d torch.Size([b, N, N])\n",
    "    \n",
    "    # Calculate CT_dist (distance matrix)\n",
    "    CT_dist = torch.cdist(s,s) # [20, N, k], [20, N, k]-> [20,N,N]\n",
    "\n",
    "    ## Calculate Vol (volumes): one per graph \n",
    "    vol = _rank3_trace(d) # torch.Size([20]) \n",
    "\n",
    "    ## Calculate out_adj as CT_dist/vol(G)\n",
    "    N = adj.size(1)\n",
    "    CT_dist = (CT_dist) / vol.unsqueeze(1).unsqueeze(1)\n",
    "\n",
    "    ## Mask with adjacency\n",
    "    adj = CT_dist*adj\n",
    "    \n",
    "    \n",
    "    # Losses\n",
    "    ## Calculate Laplacian L = D - A \n",
    "    L = d - adj\n",
    "    \n",
    "    ## Calculate out_adj as A_CT = S.T*L*S\n",
    "    out_adj = torch.matmul(torch.matmul(s.transpose(1, 2), L), s) #[b, k, N]*[b, N, N]-> [b, k ,N]*[b, N, k] = [20, k, k]\n",
    "    \n",
    "    ## Calculate CT_num \n",
    "    CT_num = _rank3_trace(out_adj) # mincut_num torch.Size([b]) one sum over each graph\n",
    "\n",
    "    ## Calculate CT_den \n",
    "    CT_den = _rank3_trace(\n",
    "        torch.matmul(torch.matmul(s.transpose(1, 2), d ), s))+EPS # [b, k, N]*[b, N, N]->[b, k, N]*[b, N, k] -> [b] one sum over each graph\n",
    "\n",
    "    CT_loss = CT_num / CT_den\n",
    "    CT_loss = torch.mean(CT_loss) # Mean over batch!\n",
    "    \n",
    "    ## Orthogonality regularization.\n",
    "    ss = torch.matmul(s.transpose(1, 2), s)  #[b, k, N]*[b, N, k]-> [b, k, k]\n",
    "\n",
    "    i_s = torch.eye(k).type_as(ss) # [k, k]\n",
    "    ortho_loss = torch.norm(\n",
    "        ss / torch.norm(ss, dim=(-1, -2), keepdim=True) -\n",
    "        i_s)\n",
    "    ortho_loss = torch.mean(ortho_loss) # Mean over batch!\n",
    "    \n",
    "    return adj, CT_loss, ortho_loss"
   ]
  },
  {
   "cell_type": "code",
   "execution_count": null,
   "id": "19a9e0d6",
   "metadata": {},
   "outputs": [],
   "source": []
  },
  {
   "cell_type": "markdown",
   "id": "86e51e58",
   "metadata": {},
   "source": [
    "**Use $\\mathtt{CT-Layer}$ for Graph Classification**\n",
    "<img src=\"figs/ctnetwork.png\" alt=\"CT network\" style=\"width:300px;\"/> </a>"
   ]
  },
  {
   "cell_type": "code",
   "execution_count": 36,
   "id": "1f656163",
   "metadata": {},
   "outputs": [],
   "source": [
    "class CTNet(torch.nn.Module):\n",
    "    def __init__(self, in_channels, out_channels, k_centers, hidden_channels=32, EPS=1e-15):\n",
    "        super(CTNet, self).__init__()\n",
    "        \n",
    "        self.EPS=EPS\n",
    "        #Message Passing Layers\n",
    "        self.conv1 = DenseGraphConv(hidden_channels, hidden_channels)\n",
    "        self.conv2 = DenseGraphConv(hidden_channels, hidden_channels)\n",
    "        \n",
    "        # Pooling for CT embedding\n",
    "        num_of_centers1 =  k_centers # k1 #order of number of nodes\n",
    "        self.pool1 = Linear(hidden_channels, num_of_centers1)\n",
    "        \n",
    "        # Pooling for MinCut Layer\n",
    "        num_of_centers2 =  16 # k2 #mincut \n",
    "        self.pool2 = Linear(hidden_channels, num_of_centers2) \n",
    "\n",
    "        # MLPs towards out \n",
    "        self.lin1 = Linear(in_channels, hidden_channels)\n",
    "        self.lin2 = Linear(hidden_channels, hidden_channels)\n",
    "        self.lin3 = Linear(hidden_channels, out_channels)\n",
    " \n",
    "\n",
    "    def forward(self, x, edge_index, batch):    # x torch.Size([N, N]),  data.batch  torch.Size([661])  \n",
    "        # Make all matrices dense\n",
    "        adj = to_dense_adj(edge_index, batch)   # adj torch.Size(B, N, N])\n",
    "        x, mask = to_dense_batch(x, batch)      \n",
    "\n",
    "        #First layer: linear MLP\n",
    "        x = self.lin1(x) \n",
    "        \n",
    "        if torch.isnan(adj).any():\n",
    "              print(\"adj nan\")\n",
    "        if torch.isnan(x).any():\n",
    "              print(\"x nan\")\n",
    "        \n",
    "        # CT REWIRING\n",
    "        s1  = self.pool1(x)\n",
    "        #adj = torch.Size([b, N, h]) --> CT Embedding\n",
    "        adj, CT_loss, ortho_loss1 = dense_CT_rewiring(x, adj, s1, mask, EPS = self.EPS) \n",
    "        #adj = torch.Size([b, N, N]) --> CT Distances\n",
    "        \n",
    "\n",
    "        # CONV1: Now on x and rewired adj: \n",
    "        x = self.conv1(x, adj) #out: x torch.Size([20, N, F'=32])\n",
    "\n",
    "        # MINCUT_POOL\n",
    "        # MLP of k=16 outputs s\n",
    "        s2 = self.pool2(x) # s torch.Size([20, N, k])\n",
    "        \n",
    "        # Call to dense_cut_mincut_pool to get coarsened x, adj and the losses: k=16\n",
    "        x, adj, mincut_loss2, ortho_loss2 = dense_mincut_pool(x, adj, s2, mask, EPS=self.EPS) # out x torch.Size([20, k=16, F'=32]),  adj torch.Size([20, k2=16, k2=16])\n",
    "\n",
    "        # CONV2: Now on coarsened x and adj: \n",
    "        x = self.conv2(x, adj) #out x torch.Size([20, 16, 32])\n",
    "        \n",
    "        # Readout for each of the 20 graphs\n",
    "        x = x.sum(dim=1) \n",
    "        \n",
    "        # Final MLP for graph classification: hidden channels = 32\n",
    "        x = F.relu(self.lin2(x)) \n",
    "        x = self.lin3(x) \n",
    "        \n",
    "        #loss functions\n",
    "        CT_loss = CT_loss + ortho_loss1\n",
    "        mincut_loss = mincut_loss2 + ortho_loss2\n",
    "        \n",
    "        return F.log_softmax(x, dim=-1), CT_loss, mincut_loss\n"
   ]
  },
  {
   "cell_type": "code",
   "execution_count": 37,
   "id": "0a8d6f9f",
   "metadata": {},
   "outputs": [],
   "source": [
    "def train(epoch, loader):\n",
    "    model.train()\n",
    "    loss_all = 0\n",
    "    correct = 0\n",
    "    #i = 0\n",
    "    for data in loader:\n",
    "        data = data.to(device)\n",
    "        optimizer.zero_grad()\n",
    "        out, mc_loss, o_loss = model(data.x, data.edge_index, data.batch) # data.batch  torch.Size([783])\n",
    "        loss = F.nll_loss(out, data.y.view(-1)) + mc_loss + o_loss\n",
    "        loss.backward()\n",
    "        loss_all += data.y.size(0) * loss.item()\n",
    "        optimizer.step()\n",
    "        correct += out.max(dim=1)[1].eq(data.y.view(-1)).sum().item() #accuracy in train AFTER EACH BACH\n",
    "    return loss_all / len(loader.dataset), correct / len(loader.dataset)\n",
    "\n",
    "@torch.no_grad()\n",
    "def test(loader):\n",
    "    model.eval()\n",
    "    correct = 0\n",
    "    for data in loader:\n",
    "        data = data.to(device)\n",
    "        pred, mc_loss, o_loss = model(data.x, data.edge_index, data.batch)\n",
    "        loss = F.nll_loss(pred, data.y.view(-1)) + mc_loss + o_loss\n",
    "        correct += pred.max(dim=1)[1].eq(data.y.view(-1)).sum().item()\n",
    "\n",
    "    return loss, correct / len(loader.dataset)"
   ]
  },
  {
   "cell_type": "code",
   "execution_count": 39,
   "id": "8451e83e",
   "metadata": {},
   "outputs": [
    {
     "ename": "LinkerError",
     "evalue": "[222] Call to cuLinkAddData results in UNKNOWN_CUDA_ERROR\nptxas application ptx input, line 9; fatal   : Unsupported .version 7.3; current version is '7.1'",
     "output_type": "error",
     "traceback": [
      "\u001b[1;31m---------------------------------------------------------------------------\u001b[0m",
      "\u001b[1;31mCudaAPIError\u001b[0m                              Traceback (most recent call last)",
      "File \u001b[1;32m~\\miniconda3\\envs\\pygeom\\lib\\site-packages\\numba\\cuda\\cudadrv\\driver.py:2705\u001b[0m, in \u001b[0;36mCtypesLinker.add_ptx\u001b[1;34m(self, ptx, name)\u001b[0m\n\u001b[0;32m   2704\u001b[0m \u001b[38;5;28;01mtry\u001b[39;00m:\n\u001b[1;32m-> 2705\u001b[0m     \u001b[43mdriver\u001b[49m\u001b[38;5;241;43m.\u001b[39;49m\u001b[43mcuLinkAddData\u001b[49m\u001b[43m(\u001b[49m\u001b[38;5;28;43mself\u001b[39;49m\u001b[38;5;241;43m.\u001b[39;49m\u001b[43mhandle\u001b[49m\u001b[43m,\u001b[49m\u001b[43m \u001b[49m\u001b[43menums\u001b[49m\u001b[38;5;241;43m.\u001b[39;49m\u001b[43mCU_JIT_INPUT_PTX\u001b[49m\u001b[43m,\u001b[49m\n\u001b[0;32m   2706\u001b[0m \u001b[43m                         \u001b[49m\u001b[43mptxbuf\u001b[49m\u001b[43m,\u001b[49m\u001b[43m \u001b[49m\u001b[38;5;28;43mlen\u001b[39;49m\u001b[43m(\u001b[49m\u001b[43mptx\u001b[49m\u001b[43m)\u001b[49m\u001b[43m,\u001b[49m\u001b[43m \u001b[49m\u001b[43mnamebuf\u001b[49m\u001b[43m,\u001b[49m\u001b[43m \u001b[49m\u001b[38;5;241;43m0\u001b[39;49m\u001b[43m,\u001b[49m\u001b[43m \u001b[49m\u001b[38;5;28;43;01mNone\u001b[39;49;00m\u001b[43m,\u001b[49m\u001b[43m \u001b[49m\u001b[38;5;28;43;01mNone\u001b[39;49;00m\u001b[43m)\u001b[49m\n\u001b[0;32m   2707\u001b[0m \u001b[38;5;28;01mexcept\u001b[39;00m CudaAPIError \u001b[38;5;28;01mas\u001b[39;00m e:\n",
      "File \u001b[1;32m~\\miniconda3\\envs\\pygeom\\lib\\site-packages\\numba\\cuda\\cudadrv\\driver.py:320\u001b[0m, in \u001b[0;36mDriver._ctypes_wrap_fn.<locals>.safe_cuda_api_call\u001b[1;34m(*args)\u001b[0m\n\u001b[0;32m    319\u001b[0m retcode \u001b[38;5;241m=\u001b[39m libfn(\u001b[38;5;241m*\u001b[39margs)\n\u001b[1;32m--> 320\u001b[0m \u001b[38;5;28;43mself\u001b[39;49m\u001b[38;5;241;43m.\u001b[39;49m\u001b[43m_check_ctypes_error\u001b[49m\u001b[43m(\u001b[49m\u001b[43mfname\u001b[49m\u001b[43m,\u001b[49m\u001b[43m \u001b[49m\u001b[43mretcode\u001b[49m\u001b[43m)\u001b[49m\n",
      "File \u001b[1;32m~\\miniconda3\\envs\\pygeom\\lib\\site-packages\\numba\\cuda\\cudadrv\\driver.py:388\u001b[0m, in \u001b[0;36mDriver._check_ctypes_error\u001b[1;34m(self, fname, retcode)\u001b[0m\n\u001b[0;32m    387\u001b[0m     \u001b[38;5;28mself\u001b[39m\u001b[38;5;241m.\u001b[39m_detect_fork()\n\u001b[1;32m--> 388\u001b[0m \u001b[38;5;28;01mraise\u001b[39;00m CudaAPIError(retcode, msg)\n",
      "\u001b[1;31mCudaAPIError\u001b[0m: [222] Call to cuLinkAddData results in UNKNOWN_CUDA_ERROR",
      "\nDuring handling of the above exception, another exception occurred:\n",
      "\u001b[1;31mLinkerError\u001b[0m                               Traceback (most recent call last)",
      "Cell \u001b[1;32mIn [39], line 1\u001b[0m\n\u001b[1;32m----> 1\u001b[0m \u001b[38;5;28;01mfrom\u001b[39;00m \u001b[38;5;21;01mtransforms\u001b[39;00m \u001b[38;5;28;01mimport\u001b[39;00m FeatureDegree\n\u001b[0;32m      2\u001b[0m dataset \u001b[38;5;241m=\u001b[39m TUDataset(root\u001b[38;5;241m=\u001b[39m\u001b[38;5;124m'\u001b[39m\u001b[38;5;124mdata\u001b[39m\u001b[38;5;124m'\u001b[39m,name\u001b[38;5;241m=\u001b[39m\u001b[38;5;124m\"\u001b[39m\u001b[38;5;124mREDDIT-BINARY\u001b[39m\u001b[38;5;124m\"\u001b[39m, transform \u001b[38;5;241m=\u001b[39m FeatureDegree())\n",
      "File \u001b[1;32m~\\OneDrive\\Desktop\\ELLIS\\PhD\\General Graphs\\LoG Tutorial\\GraphRewiring-Tutorial\\./DiffWire\\transforms\\__init__.py:1\u001b[0m\n\u001b[1;32m----> 1\u001b[0m \u001b[38;5;28;01mfrom\u001b[39;00m \u001b[38;5;21;01mtransforms\u001b[39;00m\u001b[38;5;21;01m.\u001b[39;00m\u001b[38;5;21;01msdrf\u001b[39;00m\u001b[38;5;21;01m.\u001b[39;00m\u001b[38;5;21;01msdrf_transform\u001b[39;00m \u001b[38;5;28;01mimport\u001b[39;00m SDRF\n\u001b[0;32m      2\u001b[0m \u001b[38;5;28;01mfrom\u001b[39;00m \u001b[38;5;21;01mtransforms\u001b[39;00m\u001b[38;5;21;01m.\u001b[39;00m\u001b[38;5;21;01mtransform_features\u001b[39;00m \u001b[38;5;28;01mimport\u001b[39;00m FeatureDegree\n\u001b[0;32m      3\u001b[0m \u001b[38;5;28;01mfrom\u001b[39;00m \u001b[38;5;21;01mtransforms\u001b[39;00m\u001b[38;5;21;01m.\u001b[39;00m\u001b[38;5;21;01mtransform_features\u001b[39;00m \u001b[38;5;28;01mimport\u001b[39;00m DIGLedges\n",
      "File \u001b[1;32m~\\OneDrive\\Desktop\\ELLIS\\PhD\\General Graphs\\LoG Tutorial\\GraphRewiring-Tutorial\\./DiffWire\\transforms\\sdrf\\sdrf_transform.py:4\u001b[0m\n\u001b[0;32m      2\u001b[0m \u001b[38;5;28;01mfrom\u001b[39;00m \u001b[38;5;21;01mtorch_geometric\u001b[39;00m\u001b[38;5;21;01m.\u001b[39;00m\u001b[38;5;21;01mtransforms\u001b[39;00m \u001b[38;5;28;01mimport\u001b[39;00m BaseTransform\n\u001b[0;32m      3\u001b[0m \u001b[38;5;28;01mfrom\u001b[39;00m \u001b[38;5;21;01mtorch_geometric\u001b[39;00m\u001b[38;5;21;01m.\u001b[39;00m\u001b[38;5;21;01mdata\u001b[39;00m \u001b[38;5;28;01mimport\u001b[39;00m Data\n\u001b[1;32m----> 4\u001b[0m \u001b[38;5;28;01mfrom\u001b[39;00m \u001b[38;5;21;01mtransforms\u001b[39;00m\u001b[38;5;21;01m.\u001b[39;00m\u001b[38;5;21;01msdrf\u001b[39;00m\u001b[38;5;21;01m.\u001b[39;00m\u001b[38;5;21;01mcurvature\u001b[39;00m \u001b[38;5;28;01mimport\u001b[39;00m sdrf\n\u001b[0;32m      5\u001b[0m \u001b[38;5;28;01mfrom\u001b[39;00m \u001b[38;5;21;01mtransforms\u001b[39;00m\u001b[38;5;21;01m.\u001b[39;00m\u001b[38;5;21;01msdrf\u001b[39;00m\u001b[38;5;21;01m.\u001b[39;00m\u001b[38;5;21;01mutils\u001b[39;00m \u001b[38;5;28;01mimport\u001b[39;00m get_dataset\n\u001b[0;32m      7\u001b[0m \u001b[38;5;28;01mclass\u001b[39;00m \u001b[38;5;21;01mSDRF\u001b[39;00m(BaseTransform):\n",
      "File \u001b[1;32m~\\OneDrive\\Desktop\\ELLIS\\PhD\\General Graphs\\LoG Tutorial\\GraphRewiring-Tutorial\\./DiffWire\\transforms\\sdrf\\curvature.py:19\u001b[0m\n\u001b[0;32m      5\u001b[0m \u001b[38;5;28;01mfrom\u001b[39;00m \u001b[38;5;21;01mtorch_geometric\u001b[39;00m\u001b[38;5;21;01m.\u001b[39;00m\u001b[38;5;21;01mutils\u001b[39;00m \u001b[38;5;28;01mimport\u001b[39;00m (\n\u001b[0;32m      6\u001b[0m     to_networkx,\n\u001b[0;32m      7\u001b[0m     from_networkx,\n\u001b[1;32m   (...)\u001b[0m\n\u001b[0;32m     10\u001b[0m     to_undirected,\n\u001b[0;32m     11\u001b[0m )\n\u001b[0;32m     13\u001b[0m \u001b[38;5;28;01mfrom\u001b[39;00m \u001b[38;5;21;01mtransforms\u001b[39;00m\u001b[38;5;21;01m.\u001b[39;00m\u001b[38;5;21;01msdrf\u001b[39;00m\u001b[38;5;21;01m.\u001b[39;00m\u001b[38;5;21;01mutils\u001b[39;00m \u001b[38;5;28;01mimport\u001b[39;00m softmax\n\u001b[0;32m     16\u001b[0m \u001b[38;5;129;43m@cuda\u001b[39;49m\u001b[38;5;241;43m.\u001b[39;49m\u001b[43mjit\u001b[49m\u001b[43m(\u001b[49m\n\u001b[0;32m     17\u001b[0m \u001b[43m    \u001b[49m\u001b[38;5;124;43m\"\u001b[39;49m\u001b[38;5;124;43mvoid(float32[:,:], float32[:,:], float32[:], float32[:], int32, float32[:,:])\u001b[39;49m\u001b[38;5;124;43m\"\u001b[39;49m\n\u001b[0;32m     18\u001b[0m \u001b[43m)\u001b[49m\n\u001b[1;32m---> 19\u001b[0m \u001b[38;5;28;43;01mdef\u001b[39;49;00m\u001b[43m \u001b[49m\u001b[38;5;21;43m_balanced_forman_curvature\u001b[39;49m\u001b[43m(\u001b[49m\u001b[43mA\u001b[49m\u001b[43m,\u001b[49m\u001b[43m \u001b[49m\u001b[43mA2\u001b[49m\u001b[43m,\u001b[49m\u001b[43m \u001b[49m\u001b[43md_in\u001b[49m\u001b[43m,\u001b[49m\u001b[43m \u001b[49m\u001b[43md_out\u001b[49m\u001b[43m,\u001b[49m\u001b[43m \u001b[49m\u001b[43mN\u001b[49m\u001b[43m,\u001b[49m\u001b[43m \u001b[49m\u001b[43mC\u001b[49m\u001b[43m)\u001b[49m\u001b[43m:\u001b[49m\n\u001b[0;32m     20\u001b[0m \u001b[43m    \u001b[49m\u001b[43mi\u001b[49m\u001b[43m,\u001b[49m\u001b[43m \u001b[49m\u001b[43mj\u001b[49m\u001b[43m \u001b[49m\u001b[38;5;241;43m=\u001b[39;49m\u001b[43m \u001b[49m\u001b[43mcuda\u001b[49m\u001b[38;5;241;43m.\u001b[39;49m\u001b[43mgrid\u001b[49m\u001b[43m(\u001b[49m\u001b[38;5;241;43m2\u001b[39;49m\u001b[43m)\u001b[49m\n\u001b[0;32m     22\u001b[0m \u001b[43m    \u001b[49m\u001b[38;5;28;43;01mif\u001b[39;49;00m\u001b[43m \u001b[49m\u001b[43m(\u001b[49m\u001b[43mi\u001b[49m\u001b[43m \u001b[49m\u001b[38;5;241;43m<\u001b[39;49m\u001b[43m \u001b[49m\u001b[43mN\u001b[49m\u001b[43m)\u001b[49m\u001b[43m \u001b[49m\u001b[38;5;129;43;01mand\u001b[39;49;00m\u001b[43m \u001b[49m\u001b[43m(\u001b[49m\u001b[43mj\u001b[49m\u001b[43m \u001b[49m\u001b[38;5;241;43m<\u001b[39;49m\u001b[43m \u001b[49m\u001b[43mN\u001b[49m\u001b[43m)\u001b[49m\u001b[43m:\u001b[49m\n",
      "File \u001b[1;32m~\\miniconda3\\envs\\pygeom\\lib\\site-packages\\numba\\cuda\\decorators.py:115\u001b[0m, in \u001b[0;36mjit.<locals>._jit\u001b[1;34m(func)\u001b[0m\n\u001b[0;32m    113\u001b[0m         disp\u001b[38;5;241m.\u001b[39mcompile_device(argtypes)\n\u001b[0;32m    114\u001b[0m \u001b[38;5;28;01melse\u001b[39;00m:\n\u001b[1;32m--> 115\u001b[0m     \u001b[43mdisp\u001b[49m\u001b[38;5;241;43m.\u001b[39;49m\u001b[43mcompile\u001b[49m\u001b[43m(\u001b[49m\u001b[43margtypes\u001b[49m\u001b[43m)\u001b[49m\n\u001b[0;32m    117\u001b[0m disp\u001b[38;5;241m.\u001b[39m_specialized \u001b[38;5;241m=\u001b[39m \u001b[38;5;28;01mTrue\u001b[39;00m\n\u001b[0;32m    118\u001b[0m disp\u001b[38;5;241m.\u001b[39mdisable_compile()\n",
      "File \u001b[1;32m~\\miniconda3\\envs\\pygeom\\lib\\site-packages\\numba\\cuda\\dispatcher.py:796\u001b[0m, in \u001b[0;36mCUDADispatcher.compile\u001b[1;34m(self, sig)\u001b[0m\n\u001b[0;32m    794\u001b[0m     kernel \u001b[38;5;241m=\u001b[39m _Kernel(\u001b[38;5;28mself\u001b[39m\u001b[38;5;241m.\u001b[39mpy_func, argtypes, \u001b[38;5;241m*\u001b[39m\u001b[38;5;241m*\u001b[39m\u001b[38;5;28mself\u001b[39m\u001b[38;5;241m.\u001b[39mtargetoptions)\n\u001b[0;32m    795\u001b[0m     \u001b[38;5;66;03m# We call bind to force codegen, so that there is a cubin to cache\u001b[39;00m\n\u001b[1;32m--> 796\u001b[0m     \u001b[43mkernel\u001b[49m\u001b[38;5;241;43m.\u001b[39;49m\u001b[43mbind\u001b[49m\u001b[43m(\u001b[49m\u001b[43m)\u001b[49m\n\u001b[0;32m    797\u001b[0m     \u001b[38;5;28mself\u001b[39m\u001b[38;5;241m.\u001b[39m_cache\u001b[38;5;241m.\u001b[39msave_overload(sig, kernel)\n\u001b[0;32m    799\u001b[0m \u001b[38;5;28mself\u001b[39m\u001b[38;5;241m.\u001b[39madd_overload(kernel, argtypes)\n",
      "File \u001b[1;32m~\\miniconda3\\envs\\pygeom\\lib\\site-packages\\numba\\cuda\\dispatcher.py:178\u001b[0m, in \u001b[0;36m_Kernel.bind\u001b[1;34m(self)\u001b[0m\n\u001b[0;32m    174\u001b[0m \u001b[38;5;28;01mdef\u001b[39;00m \u001b[38;5;21mbind\u001b[39m(\u001b[38;5;28mself\u001b[39m):\n\u001b[0;32m    175\u001b[0m     \u001b[38;5;124;03m\"\"\"\u001b[39;00m\n\u001b[0;32m    176\u001b[0m \u001b[38;5;124;03m    Force binding to current CUDA context\u001b[39;00m\n\u001b[0;32m    177\u001b[0m \u001b[38;5;124;03m    \"\"\"\u001b[39;00m\n\u001b[1;32m--> 178\u001b[0m     \u001b[38;5;28;43mself\u001b[39;49m\u001b[38;5;241;43m.\u001b[39;49m\u001b[43m_codelibrary\u001b[49m\u001b[38;5;241;43m.\u001b[39;49m\u001b[43mget_cufunc\u001b[49m\u001b[43m(\u001b[49m\u001b[43m)\u001b[49m\n",
      "File \u001b[1;32m~\\miniconda3\\envs\\pygeom\\lib\\site-packages\\numba\\cuda\\codegen.py:208\u001b[0m, in \u001b[0;36mCUDACodeLibrary.get_cufunc\u001b[1;34m(self)\u001b[0m\n\u001b[0;32m    205\u001b[0m \u001b[38;5;28;01mif\u001b[39;00m cufunc:\n\u001b[0;32m    206\u001b[0m     \u001b[38;5;28;01mreturn\u001b[39;00m cufunc\n\u001b[1;32m--> 208\u001b[0m cubin \u001b[38;5;241m=\u001b[39m \u001b[38;5;28;43mself\u001b[39;49m\u001b[38;5;241;43m.\u001b[39;49m\u001b[43mget_cubin\u001b[49m\u001b[43m(\u001b[49m\u001b[43mcc\u001b[49m\u001b[38;5;241;43m=\u001b[39;49m\u001b[43mdevice\u001b[49m\u001b[38;5;241;43m.\u001b[39;49m\u001b[43mcompute_capability\u001b[49m\u001b[43m)\u001b[49m\n\u001b[0;32m    209\u001b[0m module \u001b[38;5;241m=\u001b[39m ctx\u001b[38;5;241m.\u001b[39mcreate_module_image(cubin)\n\u001b[0;32m    211\u001b[0m \u001b[38;5;66;03m# Load\u001b[39;00m\n",
      "File \u001b[1;32m~\\miniconda3\\envs\\pygeom\\lib\\site-packages\\numba\\cuda\\codegen.py:181\u001b[0m, in \u001b[0;36mCUDACodeLibrary.get_cubin\u001b[1;34m(self, cc)\u001b[0m\n\u001b[0;32m    179\u001b[0m ptxes \u001b[38;5;241m=\u001b[39m \u001b[38;5;28mself\u001b[39m\u001b[38;5;241m.\u001b[39m_get_ptxes(cc\u001b[38;5;241m=\u001b[39mcc)\n\u001b[0;32m    180\u001b[0m \u001b[38;5;28;01mfor\u001b[39;00m ptx \u001b[38;5;129;01min\u001b[39;00m ptxes:\n\u001b[1;32m--> 181\u001b[0m     \u001b[43mlinker\u001b[49m\u001b[38;5;241;43m.\u001b[39;49m\u001b[43madd_ptx\u001b[49m\u001b[43m(\u001b[49m\u001b[43mptx\u001b[49m\u001b[38;5;241;43m.\u001b[39;49m\u001b[43mencode\u001b[49m\u001b[43m(\u001b[49m\u001b[43m)\u001b[49m\u001b[43m)\u001b[49m\n\u001b[0;32m    182\u001b[0m \u001b[38;5;28;01mfor\u001b[39;00m path \u001b[38;5;129;01min\u001b[39;00m \u001b[38;5;28mself\u001b[39m\u001b[38;5;241m.\u001b[39m_linking_files:\n\u001b[0;32m    183\u001b[0m     linker\u001b[38;5;241m.\u001b[39madd_file_guess_ext(path)\n",
      "File \u001b[1;32m~\\miniconda3\\envs\\pygeom\\lib\\site-packages\\numba\\cuda\\cudadrv\\driver.py:2708\u001b[0m, in \u001b[0;36mCtypesLinker.add_ptx\u001b[1;34m(self, ptx, name)\u001b[0m\n\u001b[0;32m   2705\u001b[0m     driver\u001b[38;5;241m.\u001b[39mcuLinkAddData(\u001b[38;5;28mself\u001b[39m\u001b[38;5;241m.\u001b[39mhandle, enums\u001b[38;5;241m.\u001b[39mCU_JIT_INPUT_PTX,\n\u001b[0;32m   2706\u001b[0m                          ptxbuf, \u001b[38;5;28mlen\u001b[39m(ptx), namebuf, \u001b[38;5;241m0\u001b[39m, \u001b[38;5;28;01mNone\u001b[39;00m, \u001b[38;5;28;01mNone\u001b[39;00m)\n\u001b[0;32m   2707\u001b[0m \u001b[38;5;28;01mexcept\u001b[39;00m CudaAPIError \u001b[38;5;28;01mas\u001b[39;00m e:\n\u001b[1;32m-> 2708\u001b[0m     \u001b[38;5;28;01mraise\u001b[39;00m LinkerError(\u001b[38;5;124m\"\u001b[39m\u001b[38;5;132;01m%s\u001b[39;00m\u001b[38;5;130;01m\\n\u001b[39;00m\u001b[38;5;132;01m%s\u001b[39;00m\u001b[38;5;124m\"\u001b[39m \u001b[38;5;241m%\u001b[39m (e, \u001b[38;5;28mself\u001b[39m\u001b[38;5;241m.\u001b[39merror_log))\n",
      "\u001b[1;31mLinkerError\u001b[0m: [222] Call to cuLinkAddData results in UNKNOWN_CUDA_ERROR\nptxas application ptx input, line 9; fatal   : Unsupported .version 7.3; current version is '7.1'"
     ]
    }
   ],
   "source": [
    "from transforms import FeatureDegree\n",
    "dataset = TUDataset(root='data',name=\"REDDIT-BINARY\", transform = FeatureDegree())"
   ]
  },
  {
   "cell_type": "code",
   "execution_count": 28,
   "id": "2287d420",
   "metadata": {},
   "outputs": [
    {
     "ename": "SyntaxError",
     "evalue": "invalid syntax (3246366582.py, line 2)",
     "output_type": "error",
     "traceback": [
      "\u001b[1;36m  Cell \u001b[1;32mIn [28], line 2\u001b[1;36m\u001b[0m\n\u001b[1;33m    dataset = dataset.shuffle()TRAIN_SPLIT = 1500\u001b[0m\n\u001b[1;37m                               ^\u001b[0m\n\u001b[1;31mSyntaxError\u001b[0m\u001b[1;31m:\u001b[0m invalid syntax\n"
     ]
    }
   ],
   "source": [
    "torch.manual_seed(12345)\n",
    "dataset = dataset.shuffle()\n",
    "\n",
    "TRAIN_SPLIT = 1500\n",
    "BATCH_SIZE = 64\n",
    "\n",
    "train_dataset = dataset[:TRAIN_SPLIT]\n",
    "test_dataset = dataset[TRAIN_SPLIT:]\n",
    "train_loader = DataLoader(train_dataset, batch_size=BATCH_SIZE, shuffle=True)\n",
    "test_loader = DataLoader(test_dataset, batch_size=BATCH_SIZE, shuffle=False)"
   ]
  },
  {
   "cell_type": "raw",
   "id": "252009dc",
   "metadata": {},
   "source": [
    "train_indices, test_indices = train_test_split(list(range(len(dataset.data.y))), test_size=0.15, \n",
    "                                               stratify=dataset.data.y,\n",
    "                                               random_state=RandList[e], shuffle=True)\n",
    "                                               \n",
    "train_dataset = torch.utils.data.Subset(dataset, train_indices)\n",
    "test_dataset = torch.utils.data.Subset(dataset, test_indices)\n",
    "\n",
    "train_loader = DataLoader(train_dataset, batch_size=BATCH_SIZE, shuffle=True) # Original 64\n",
    "test_loader = DataLoader(test_dataset, batch_size=BATCH_SIZE, shuffle=False)  # Original 64"
   ]
  },
  {
   "cell_type": "code",
   "execution_count": 29,
   "id": "4965faca",
   "metadata": {},
   "outputs": [
    {
     "ename": "NameError",
     "evalue": "name 'dataset' is not defined",
     "output_type": "error",
     "traceback": [
      "\u001b[1;31m---------------------------------------------------------------------------\u001b[0m",
      "\u001b[1;31mNameError\u001b[0m                                 Traceback (most recent call last)",
      "Cell \u001b[1;32mIn [29], line 3\u001b[0m\n\u001b[0;32m      1\u001b[0m num_of_centers \u001b[38;5;241m=\u001b[39m \u001b[38;5;241m200\u001b[39m\n\u001b[0;32m      2\u001b[0m EPS \u001b[38;5;241m=\u001b[39m \u001b[38;5;241m1e-15\u001b[39m\n\u001b[1;32m----> 3\u001b[0m model \u001b[38;5;241m=\u001b[39m CTNet(\u001b[43mdataset\u001b[49m\u001b[38;5;241m.\u001b[39mnum_features, dataset\u001b[38;5;241m.\u001b[39mnum_classes, k_centers\u001b[38;5;241m=\u001b[39mnum_of_centers, EPS\u001b[38;5;241m=\u001b[39mEPS)\u001b[38;5;241m.\u001b[39mto(device)\n",
      "\u001b[1;31mNameError\u001b[0m: name 'dataset' is not defined"
     ]
    }
   ],
   "source": [
    "num_of_centers = 200\n",
    "EPS = 1e-15\n",
    "\n",
    "optimizer = torch.optim.Adam(model.parameters(), lr=5e-4, weight_decay=1e-4)  #\n",
    "model = CTNet(dataset.num_features, dataset.num_classes, k_centers=num_of_centers, EPS=EPS).to(device)"
   ]
  },
  {
   "cell_type": "code",
   "execution_count": null,
   "id": "b739a0cd",
   "metadata": {},
   "outputs": [],
   "source": [
    "for epoch in range(1, 100):\n",
    "    train_loss, _ = train(epoch, train_loader)\n",
    "    _, train_acc = test(train_loader)\n",
    "    _, test_acc = test(test_loader)\n",
    "    print(f'Epoch: {epoch:03d}, Train Acc: {train_acc:.4f}, Test Acc: {test_acc:.4f}')"
   ]
  },
  {
   "cell_type": "code",
   "execution_count": null,
   "id": "be21f4e7",
   "metadata": {},
   "outputs": [],
   "source": [
    "optimizer = torch.optim.Adam(model.parameters(), lr=0.01)\n",
    "criterion = torch.nn.CrossEntropyLoss()"
   ]
  },
  {
   "cell_type": "code",
   "execution_count": null,
   "id": "1954040a",
   "metadata": {},
   "outputs": [],
   "source": []
  },
  {
   "cell_type": "code",
   "execution_count": null,
   "id": "6d1143d0",
   "metadata": {},
   "outputs": [],
   "source": []
  },
  {
   "cell_type": "code",
   "execution_count": null,
   "id": "fd98d311",
   "metadata": {},
   "outputs": [],
   "source": []
  },
  {
   "cell_type": "markdown",
   "id": "edf400a8",
   "metadata": {},
   "source": [
    "## Node classification"
   ]
  },
  {
   "cell_type": "code",
   "execution_count": null,
   "id": "1ad78213",
   "metadata": {},
   "outputs": [],
   "source": []
  }
 ],
 "metadata": {
  "kernelspec": {
   "display_name": "Python 3.9.5 ('base')",
   "language": "python",
   "name": "python3"
  },
  "language_info": {
   "codemirror_mode": {
    "name": "ipython",
    "version": 3
   },
   "file_extension": ".py",
   "mimetype": "text/x-python",
   "name": "python",
   "nbconvert_exporter": "python",
   "pygments_lexer": "ipython3",
   "version": "3.9.5"
  },
  "vscode": {
   "interpreter": {
    "hash": "975064d8d3d76841da6545d74f7ce08046b8a22628138d3f8f012e5fa8e266fc"
   }
  }
 },
 "nbformat": 4,
 "nbformat_minor": 5
}
